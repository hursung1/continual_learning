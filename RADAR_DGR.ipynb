{
 "cells": [
  {
   "cell_type": "code",
   "execution_count": 2,
   "metadata": {
    "colab": {},
    "colab_type": "code",
    "id": "WVcsTxSUzrHm"
   },
   "outputs": [],
   "source": [
    "import datetime\n",
    "import os\n",
    "import numpy as np\n",
    "import matplotlib.pyplot as plt\n",
    "from itertools import cycle\n",
    "from PIL import Image\n",
    "import torch\n",
    "import torchvision"
   ]
  },
  {
   "cell_type": "code",
   "execution_count": 2,
   "metadata": {
    "colab": {
     "base_uri": "https://localhost:8080/",
     "height": 54
    },
    "colab_type": "code",
    "id": "OZj8GcYqCCk8",
    "outputId": "a3e55148-23c2-4160-efd3-6d02ba74d6af"
   },
   "outputs": [
    {
     "name": "stdout",
     "output_type": "stream",
     "text": [
      "Drive already mounted at /content/drive; to attempt to forcibly remount, call drive.mount(\"/content/drive\", force_remount=True).\n"
     ]
    }
   ],
   "source": [
    "from google.colab import drive\n",
    "drive.mount('/content/drive')"
   ]
  },
  {
   "cell_type": "markdown",
   "metadata": {
    "colab_type": "text",
    "id": "6i48x5D0zL2O"
   },
   "source": [
    "### DGR Models"
   ]
  },
  {
   "cell_type": "code",
   "execution_count": 0,
   "metadata": {
    "colab": {},
    "colab_type": "code",
    "id": "ljlZk-pZzOg1"
   },
   "outputs": [],
   "source": [
    "class Generator_Conv(torch.nn.Module):\n",
    "    \"\"\"\n",
    "    Generator Class for GAN\n",
    "    \"\"\"\n",
    "    def __init__(self, input_node_size, output_shape, hidden_node_size=256,\n",
    "                    hidden_node_num=3):\n",
    "        \"\"\"\n",
    "        input_node_size: dimension of latent vector\n",
    "        output_shape: dimension of output image\n",
    "        \"\"\"\n",
    "        super(Generator_Conv, self).__init__()\n",
    "\n",
    "        self.input_node_size = input_node_size\n",
    "        self.output_shape = output_shape\n",
    "        num_channels, width, _ = output_shape\n",
    "\n",
    "        layer_channels = []\n",
    "#         if width <= 32:\n",
    "        layer_channels.append(width//2)\n",
    "        layer_channels.append(width//4)\n",
    "\n",
    "        conv2d_1 = torch.nn.ConvTranspose2d(in_channels=input_node_size,\n",
    "                                   out_channels=width*4, \n",
    "                                   kernel_size=layer_channels[1], \n",
    "                                   stride=1,\n",
    "                                   padding=0,\n",
    "                                   bias=False)\n",
    "        conv2d_2 = torch.nn.ConvTranspose2d(in_channels=width*4, \n",
    "                                   out_channels=width*2, \n",
    "                                   kernel_size=4, \n",
    "                                   stride=2,\n",
    "                                   padding=1,\n",
    "                                   bias=False)\n",
    "        conv2d_3 = torch.nn.ConvTranspose2d(in_channels=width*2, \n",
    "                                   out_channels=num_channels, \n",
    "                                   kernel_size=4, \n",
    "                                   stride=2,\n",
    "                                   padding=1,\n",
    "                                   bias=False)\n",
    "\n",
    "        self.network = torch.nn.Sequential(\n",
    "            conv2d_1,\n",
    "            torch.nn.BatchNorm2d(num_features = width*4),\n",
    "            torch.nn.ReLU(inplace=True),\n",
    "            conv2d_2,\n",
    "            torch.nn.BatchNorm2d(num_features = width*2),\n",
    "            torch.nn.ReLU(inplace=True),\n",
    "            conv2d_3,\n",
    "            torch.nn.Tanh()\n",
    "        )\n",
    "\n",
    "    def forward(self, x):\n",
    "        _x = x.view(-1, self.input_node_size, 1, 1)\n",
    "        return self.network(_x)\n",
    "    \n",
    "    \n",
    "class Discriminator_Conv(torch.nn.Module):\n",
    "    \"\"\"\n",
    "    Discriminator Class for GAN\n",
    "    \"\"\"\n",
    "    def __init__(self, input_shape, hidden_node_size=256, output_node_size=1):\n",
    "        \"\"\"\n",
    "        Parameters\n",
    "        ----------\n",
    "        input_shape: (C, W, H)\n",
    "\n",
    "        \"\"\"\n",
    "        super(Discriminator_Conv, self).__init__()\n",
    "        num_channels, width, _ = input_shape\n",
    "\n",
    "        conv2d_1 = torch.nn.Conv2d(in_channels=num_channels, \n",
    "                                   out_channels=width*2, \n",
    "                                   kernel_size=4, \n",
    "                                   stride=2,\n",
    "                                   padding=1,\n",
    "                                   bias=False)\n",
    "        conv2d_2 = torch.nn.Conv2d(in_channels=width*2, \n",
    "                                   out_channels=width*4, \n",
    "                                   kernel_size=4, \n",
    "                                   stride=2,\n",
    "                                   padding=1,\n",
    "                                   bias=False)\n",
    "        conv2d_3 = torch.nn.Conv2d(in_channels=width*4, \n",
    "                                   out_channels=output_node_size, \n",
    "                                   kernel_size=7, \n",
    "                                   stride=1,\n",
    "                                   padding=0,\n",
    "                                   bias=False)\n",
    "\n",
    "        self.network = torch.nn.Sequential(\n",
    "            conv2d_1,\n",
    "            torch.nn.BatchNorm2d(num_features=width*2),\n",
    "            torch.nn.LeakyReLU(inplace=True),\n",
    "            conv2d_2,\n",
    "            torch.nn.BatchNorm2d(num_features=width*4),\n",
    "            torch.nn.LeakyReLU(inplace=True),\n",
    "            conv2d_3,\n",
    "            torch.nn.Sigmoid()\n",
    "        )\n",
    "\n",
    "    def forward(self, x):\n",
    "        return self.network(x).view(-1, 1)\n",
    "\n",
    "    \n",
    "class Solver(torch.nn.Module):\n",
    "    \"\"\"\n",
    "    Solver Class for Deep Generative Replay\n",
    "    \"\"\"\n",
    "    def __init__(self, input_data_shape, T_n):\n",
    "        assert len(input_data_shape) == 3\n",
    "\n",
    "        super(Solver, self).__init__()\n",
    "        num_channels, width, height = input_data_shape\n",
    "        fc1 = torch.nn.Linear(num_channels*width*height, 128)\n",
    "        fc2 = torch.nn.Linear(128, 256)\n",
    "        fc3 = torch.nn.Linear(256, T_n)\n",
    "        self.network = torch.nn.Sequential(\n",
    "            fc1,\n",
    "            torch.nn.ReLU(),\n",
    "            fc2,\n",
    "            torch.nn.ReLU(),\n",
    "            fc3\n",
    "        )\n",
    "\n",
    "    def forward(self, x):\n",
    "        return self.network(x.view(x.shape[0], -1))\n"
   ]
  },
  {
   "cell_type": "markdown",
   "metadata": {
    "colab_type": "text",
    "id": "zpUUFFhoUlMJ"
   },
   "source": [
    "### Set Hyperparameters"
   ]
  },
  {
   "cell_type": "code",
   "execution_count": 0,
   "metadata": {
    "colab": {},
    "colab_type": "code",
    "id": "VCp93jkFF82k"
   },
   "outputs": [],
   "source": [
    "data_shape = (1, 128, 128)\n",
    "num_noise = batch_size = 64\n",
    "epochs = 200\n",
    "ld = 10\n",
    "tasks = 12\n",
    "\n",
    "on_colab = True\n",
    "divide_tasks = True\n",
    "\n",
    "device = torch.device('cuda' if torch.cuda.is_available() else 'cpu')\n",
    "\n",
    "category={0: 'boxingmoving', \n",
    "          1: 'boxingstill', \n",
    "          2: 'crawling', \n",
    "          3: 'running', \n",
    "          4: 'still', \n",
    "          5: 'walking', \n",
    "          6: 'walkinglow'}\n",
    "\n",
    "dt = datetime.datetime.now()"
   ]
  },
  {
   "cell_type": "markdown",
   "metadata": {
    "colab_type": "text",
    "id": "HoMzUcrXGBXV"
   },
   "source": [
    "### Load Data"
   ]
  },
  {
   "cell_type": "code",
   "execution_count": 11,
   "metadata": {
    "colab": {
     "base_uri": "https://localhost:8080/",
     "height": 87
    },
    "colab_type": "code",
    "id": "ZTSQX1mHCLnl",
    "outputId": "93982817-7934-47db-d3a5-3933f774b65a"
   },
   "outputs": [
    {
     "name": "stdout",
     "output_type": "stream",
     "text": [
      "torch.Size([12, 7, 9, 128, 128])\n",
      "torch.Size([12, 7, 3, 128, 128])\n",
      "torch.Size([7, 9])\n",
      "torch.Size([7, 3])\n"
     ]
    }
   ],
   "source": [
    "train_data = []\n",
    "test_data = []\n",
    "\n",
    "for task in range(1, tasks+1):\n",
    "    if on_colab:\n",
    "        data_path = 'drive/My Drive/projects/data/RADAR/Subject%d'%(task)\n",
    "    else:\n",
    "        data_path = './data/RADAR/Subject%d'%(task)\n",
    "\n",
    "    train_data_per_task = []\n",
    "    test_data_per_task = []\n",
    "    for _, cat in category.items():\n",
    "        # train data\n",
    "        train_data_per_cat = []\n",
    "        test_data_per_cat = []\n",
    "\n",
    "        for i in range(1, 10):\n",
    "            filename = 'Human_Spect_test%d_%s_0%d.png'%(task, cat, i)\n",
    "            file_path = os.path.join(data_path, 'train', cat, filename)\n",
    "            img = Image.open(file_path)\n",
    "            img.load()\n",
    "            img = np.array(img)\n",
    "            train_data_per_cat.append(img)\n",
    "\n",
    "        # test data\n",
    "        for i in range(10, 13):\n",
    "            filename = 'Human_Spect_test%d_%s_%d.png'%(task, cat, i)\n",
    "            file_path = os.path.join(data_path, 'test', cat, filename)\n",
    "            img = Image.open(file_path)\n",
    "            img.load()\n",
    "            img = np.array(img)\n",
    "            test_data_per_cat.append(img)\n",
    "\n",
    "        \n",
    "        train_data_per_task.append(train_data_per_cat)\n",
    "        test_data_per_task.append(test_data_per_cat)\n",
    "        \n",
    "    train_data.append(train_data_per_task)\n",
    "    test_data.append(test_data_per_task)\n",
    "    \n",
    "\n",
    "train_data = torch.Tensor(train_data).to(device)\n",
    "test_data = torch.Tensor(test_data).to(device)\n",
    "\n",
    "print(train_data.shape)\n",
    "print(test_data.shape)\n",
    "\n",
    "train_labels = np.zeros((9, ))\n",
    "test_labels = np.zeros((3, ))\n",
    "\n",
    "for i in range(1, 7):\n",
    "    train_labels = np.vstack((train_labels, np.zeros((9, )) + i))\n",
    "    test_labels = np.vstack((test_labels, np.zeros((3, )) + i))\n",
    "\n",
    "train_labels = torch.Tensor(train_labels).type(torch.LongTensor).to(device)\n",
    "test_labels = torch.Tensor(test_labels).type(torch.LongTensor).to(device)\n",
    "\n",
    "print(train_labels.shape)\n",
    "print(test_labels.shape)"
   ]
  },
  {
   "cell_type": "markdown",
   "metadata": {
    "colab_type": "text",
    "id": "NIRpb0lDzkJY"
   },
   "source": [
    "### Library"
   ]
  },
  {
   "cell_type": "code",
   "execution_count": 0,
   "metadata": {
    "colab": {},
    "colab_type": "code",
    "id": "ExSwX8psD3eH"
   },
   "outputs": [],
   "source": [
    "def sample_noise(batch_size, N_noise, device='cpu'):\n",
    "    \"\"\"\n",
    "    Returns \n",
    "    \"\"\"\n",
    "    if torch.cuda.is_available() and device == 'cpu':\n",
    "        device='cuda:0'\n",
    "    \n",
    "    return torch.randn(batch_size, N_noise).to(device)\n",
    "\n",
    "\n",
    "def init_params(model):\n",
    "    \"\"\"\n",
    "    initiallize network's parameter\n",
    "    \"\"\"\n",
    "    for p in model.parameters():\n",
    "        if(p.dim() > 1):\n",
    "            torch.nn.init.xavier_normal_(p)\n",
    "        else:\n",
    "            torch.nn.init.uniform_(p, 0.1, 0.2)\n",
    "            \n",
    "            \n",
    "def tensor_normalize(tensor):\n",
    "    \"\"\"\n",
    "    Normalize tensor to [-1, 1]\n",
    "    \"\"\"\n",
    "    _tensor = tensor.detach().clone()\n",
    "    _tensor_each_sum = _tensor.sum(dim=1)\n",
    "    _tensor /= _tensor_each_sum.unsqueeze(1)\n",
    "\n",
    "    _tensor[torch.isnan(_tensor)] = 0.0\n",
    "    _tensor = 2*_tensor - 1\n",
    "    return _tensor\n",
    "\n",
    "\n",
    "def model_grad_switch(net, requires_grad):\n",
    "    \"\"\"\n",
    "    switch network's requires_grad\n",
    "    \"\"\"\n",
    "    for params in net.parameters():\n",
    "        params.requires_grad_(requires_grad)"
   ]
  },
  {
   "cell_type": "markdown",
   "metadata": {
    "colab_type": "text",
    "id": "1igJtxnxi0QE"
   },
   "source": [
    "### Training & Validate"
   ]
  },
  {
   "cell_type": "code",
   "execution_count": 0,
   "metadata": {
    "colab": {
     "base_uri": "https://localhost:8080/",
     "height": 52
    },
    "colab_type": "code",
    "id": "nvhvOVdcirjz",
    "outputId": "353bb92d-4f73-48c3-9bf6-d7054bdc9c6a"
   },
   "outputs": [
    {
     "name": "stdout",
     "output_type": "stream",
     "text": [
      "[Epoch 0/200] [D loss: 3.337783] [G loss: -0.995154]\n",
      "[Epoch 1/200] [D loss: 9.916254] [G loss: -0.999929]\n"
     ]
    }
   ],
   "source": [
    "train_data = tensor_normalize(train_data)\n",
    "train_labels = tensor_normalize(train_labels)\n",
    "test_data = tensor_normalize(test_data)\n",
    "test_labels = tensor_normalize(test_labels)\n",
    "\n",
    "gen = Generator_Conv(input_node_size=num_noise, output_shape=data_shape).to(device)\n",
    "disc = Discriminator_Conv(input_shape=data_shape).to(device)\n",
    "\n",
    "init_params(gen)\n",
    "init_params(disc)\n",
    "\n",
    "optim_g = torch.optim.Adam(gen.parameters(), lr=1e-3, betas=(0, 0.9))\n",
    "optim_d = torch.optim.Adam(disc.parameters(), lr=1e-3, betas=(0, 0.9))\n",
    "\n",
    "#logfile_name = \"logfile_training_%d_%d_%d_%d_%d.txt\" % (dt.year, dt.month, dt.day, dt.hour, dt.minute)\n",
    "#log_file = open(logfile_name, \"w\")\n",
    "\n",
    "for epoch in range(epochs):\n",
    "    gen.train()\n",
    "    disc.train()\n",
    "\n",
    "    for i in range(10):\n",
    "        for _train_data in train_data:\n",
    "            x = _train_data.view(-1, 1, 128, 128).to(device)\n",
    "            num_data = x.shape[0]\n",
    "            noise = sample_noise(num_data, num_noise).to(device)\n",
    "\n",
    "            x_g = gen(noise)\n",
    "\n",
    "            ### Discriminator train\n",
    "            optim_d.zero_grad()\n",
    "\n",
    "            ## Regularization Term\n",
    "            eps = torch.rand(1).item()\n",
    "            x_hat = (x.detach().clone() * eps + x_g.detach().clone() * (1 - eps)).requires_grad_(True)\n",
    "\n",
    "            loss_xhat = disc(x_hat)\n",
    "            fake = torch.ones(loss_xhat.shape[0], 1).requires_grad_(False).to(device)\n",
    "\n",
    "            gradients = torch.autograd.grad(\n",
    "                outputs = loss_xhat,\n",
    "                inputs = x_hat,\n",
    "                grad_outputs=fake,\n",
    "                create_graph = True,\n",
    "                retain_graph = True,\n",
    "                only_inputs = True\n",
    "            )[0]\n",
    "            gradients = gradients.view(gradients.shape[0], -1)\n",
    "            gp = ((gradients.norm(2, dim=1) - 1) ** 2).mean() * ld\n",
    "\n",
    "            p_real = disc(x)\n",
    "            p_fake = disc(x_g.detach())\n",
    "\n",
    "            loss_d = torch.mean(p_fake) - torch.mean(p_real) + gp\n",
    "            loss_d.backward()\n",
    "            optim_d.step()\n",
    "\n",
    "            if i % 5 == 4:\n",
    "                ### Generator train\n",
    "                optim_g.zero_grad()\n",
    "                p_fake = disc(x_g)\n",
    "                loss_g = -torch.mean(p_fake)\n",
    "                loss_g.backward()\n",
    "                optim_g.step()\n",
    "                \n",
    "    print(\"[Epoch %d/%d] [D loss: %f] [G loss: %f]\" % (epoch, epochs, loss_d.item(), loss_g.item()))\n",
    "\n",
    "    if epoch % 10 == 9:\n",
    "        dir_name = \"imgs/\"#Task_%d\" % (t+1)\n",
    "        if not os.path.isdir(dir_name):\n",
    "            os.mkdir(dir_name)\n",
    "            \n",
    "        gen.eval()\n",
    "        noise = sample_noise(64, num_noise).to(device)\n",
    "\n",
    "        gen_img = gen(noise)\n",
    "        torchvision.utils.save_image(gen_img, 'imgs/%03d.png'%(epoch+1))"
   ]
  },
  {
   "cell_type": "markdown",
   "metadata": {
    "colab_type": "text",
    "id": "dnyUm1g6i18h"
   },
   "source": [
    "### Visualize"
   ]
  },
  {
   "cell_type": "code",
   "execution_count": 4,
   "metadata": {
    "colab": {
     "base_uri": "https://localhost:8080/",
     "height": 295
    },
    "colab_type": "code",
    "id": "GuThumwmir6U",
    "outputId": "006c54d8-a6ef-426c-8048-94c2e2681968"
   },
   "outputs": [
    {
     "name": "stdout",
     "output_type": "stream",
     "text": [
      "plain\n",
      "dgr\n"
     ]
    },
    {
     "data": {
      "image/png": "[encoded data removed]",
      "text/plain": [
       "<Figure size 432x288 with 1 Axes>"
      ]
     },
     "metadata": {
      "needs_background": "light"
     },
     "output_type": "display_data"
    }
   ],
   "source": [
    "acc_dict={'plain':{0: 85.7143, 1: 66.6667, 2: 77.7778, 3: 79.7619, 4: 82.8571, 5: 69.0476, 6: 80.2721, 7: 79.1667, 8: 62.4339, 9: 66.1905, 10: 70.9957, 11: 64.6825}, 'dgr':{0: 86.1905, 1: 78.8095, 2: 68.8095, 3: 77.1905, 4: 82.7619, 5: 77.9524, 6: 65.2313, 7: 73.7212, 8: 73.1973, 9: 61.2857, 10: 80.7482, 11: 83.6385}}\n",
    "plt.xlabel(\"# of tasks\")\n",
    "plt.ylabel(\"Avg. acc\")\n",
    "plt.title(\"Average Accuracies: fine tuning & Deep Generative Replay\")\n",
    "linestyle_cycler = cycle(['-','--',':','-.'])\n",
    "for coef, acc in acc_dict.items():\n",
    "    print(coef)\n",
    "    x, y = list(acc.keys()), list(acc.values())\n",
    "    plt.plot(x, y, next(linestyle_cycler), label=str(coef), marker='o')\n",
    "\n",
    "# x, y = list(ewc_acc.keys()), list(ewc_acc.values())\n",
    "# plt.plot(x, y, label=str(coef))\n",
    "plt.legend(loc=4)\n",
    "plt.savefig('radar_dgr+plain.png', dpi=400)\n",
    "plt.show()"
   ]
  },
  {
   "cell_type": "markdown",
   "metadata": {
    "colab_type": "text",
    "id": "HjpfQlEEtHyB"
   },
   "source": [
    "### Without task dividing"
   ]
  },
  {
   "cell_type": "code",
   "execution_count": 0,
   "metadata": {
    "colab": {},
    "colab_type": "code",
    "id": "fihWtNi_dNb0"
   },
   "outputs": [],
   "source": [
    "net = NeuralNet()\n",
    "if cuda_available:\n",
    "    net = net.cuda()\n",
    "\n",
    "optimizer = torch.optim.SGD(net.parameters(), lr=learning_rate)\n",
    "criterion = torch.nn.CrossEntropyLoss()\n",
    "\n",
    "logfile_name = \"logfile_training_%d_%d_%d_%d_%d.txt\" % (dt.year, dt.month, dt.day, dt.hour, dt.minute)\n",
    "log_file = open(logfile_name, \"w\")\n",
    "\n",
    "running_loss = 0\n",
    "avg_acc = {}\n",
    "\n",
    "for epoch in range(epochs):\n",
    "    for key, _ in category.items():\n",
    "        _train_data = train_data[key].view(9, 1, 128, 128)\n",
    "\n",
    "        optimizer.zero_grad()\n",
    "        outputs = net(_train_data)\n",
    "        loss = criterion(outputs, train_labels[key])\n",
    "    \n",
    "        loss.backward()\n",
    "        optimizer.step()\n",
    "    \n",
    "        running_loss += loss.data.item()\n",
    "\n",
    "    if epoch % 5 == 4:\n",
    "        msg = '[%d\\t%d] AVG. loss: %.3f\\n'% (task+1, epoch + 1, running_loss)\n",
    "        print(msg)\n",
    "        log_file.write(msg)\n",
    "        running_loss = 0\n",
    "\n",
    "each_task_acc = np.array([])\n",
    "for j in range(task+1):\n",
    "    total = 0\n",
    "    correct = 0\n",
    "    for key, _ in category.items():\n",
    "        _test_data = test_data[j, key].view(3, 1, 128, 128)\n",
    "        output = net(_test_data)\n",
    "        _, predicted = torch.max(output.data, dim=1)\n",
    "        \n",
    "        total += test_labels[key].shape[0]\n",
    "        correct += (predicted == test_labels[key]).sum()\n",
    "\n",
    "    each_task_acc = np.hstack((each_task_acc, np.array([correct.cpu().numpy()*100/total])))\n",
    "        \n",
    "print(each_task_acc)\n",
    "msg = 'Average accuracy after training task %d: %d %%\\n' % (task+1, np.mean(each_task_acc))\n",
    "print(msg)\n",
    "log_file.write(msg)\n",
    "avg_acc[task+1] = np.mean(each_task_acc)\n",
    "    \n",
    "log_file.close()"
   ]
  }
 ],
 "metadata": {
  "accelerator": "GPU",
  "colab": {
   "collapsed_sections": [],
   "name": "RADAR_DGR.ipynb",
   "provenance": []
  },
  "kernelspec": {
   "display_name": "Python 3",
   "language": "python",
   "name": "python3"
  },
  "language_info": {
   "codemirror_mode": {
    "name": "ipython",
    "version": 3
   },
   "file_extension": ".py",
   "mimetype": "text/x-python",
   "name": "python",
   "nbconvert_exporter": "python",
   "pygments_lexer": "ipython3",
   "version": "3.7.7"
  }
 },
 "nbformat": 4,
 "nbformat_minor": 1
}
