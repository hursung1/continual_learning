{
  "nbformat": 4,
  "nbformat_minor": 0,
  "metadata": {
    "colab": {
      "name": "MNIST_Continual_Learning_Final.ipynb",
      "provenance": [],
      "collapsed_sections": []
    },
    "kernelspec": {
      "name": "python3",
      "display_name": "Python 3"
    },
    "accelerator": "GPU"
  },
  "cells": [
    {
      "cell_type": "code",
      "metadata": {
        "id": "TxSnkStJoYDA",
        "colab_type": "code",
        "colab": {}
      },
      "source": [
        "import numpy as np\n",
        "import matplotlib.pyplot as plt\n",
        "from copy import deepcopy\n",
        "import random\n",
        "\n",
        "import torch\n",
        "import torch.nn as nn\n",
        "import torch.nn.functional as F\n",
        "import torch.optim as optim\n",
        "from torch.autograd import Variable\n",
        "import torchvision\n",
        "import torchvision.transforms as transforms"
      ],
      "execution_count": 0,
      "outputs": []
    },
    {
      "cell_type": "code",
      "metadata": {
        "id": "CXtTo6L2TeQG",
        "colab_type": "code",
        "colab": {}
      },
      "source": [
        "class PermutedMNISTDataLoader(torchvision.datasets.MNIST):\n",
        "    \n",
        "    def __init__(self, source='./mnist_data', train = True, shuffle_seed = None):\n",
        "        super(PermutedMNISTDataLoader, self).__init__(source, train, download=True)\n",
        "        \n",
        "        self.train = train\n",
        "        if self.train:\n",
        "            self.permuted_train_data = torch.stack(\n",
        "                [img.type(dtype=torch.float32).view(-1)[shuffle_seed] / 255.0\n",
        "                    for img in self.train_data])\n",
        "        else:\n",
        "            self.permuted_test_data = torch.stack(\n",
        "                [img.type(dtype=torch.float32).view(-1)[shuffle_seed] / 255.0\n",
        "                    for img in self.test_data])\n",
        "            \n",
        "    def __getitem__(self, index):\n",
        "        \n",
        "        if self.train:\n",
        "            input, label = self.permuted_train_data[index], self.train_labels[index]\n",
        "        else:\n",
        "            input, label = self.permuted_test_data[index], self.test_labels[index]\n",
        "        \n",
        "        return input, label\n",
        "\n",
        "    def sample(self, size):\n",
        "        return [img for img in self.permuted_train_data[random.sample(range(len(self), size))]]\n",
        "    \n",
        "    '''\n",
        "    def __len__(self):\n",
        "        if self.train:\n",
        "            return self.train_data.size()\n",
        "        else:\n",
        "            return self.test_data.size()\n",
        "    '''"
      ],
      "execution_count": 0,
      "outputs": []
    },
    {
      "cell_type": "code",
      "metadata": {
        "id": "pEUfd3K_oiYV",
        "colab_type": "code",
        "outputId": "89702acb-0af5-4656-a2dc-2701eb39b2e7",
        "colab": {
          "base_uri": "https://localhost:8080/",
          "height": 334
        }
      },
      "source": [
        "batch_size = 64\n",
        "num_tasks = 10\n",
        "\n",
        "def permute_mnist():\n",
        "    train_loader = {}\n",
        "    test_loader = {}\n",
        "    \n",
        "    for i in range(num_tasks):\n",
        "        shuffle_seed = np.arange(28*28)\n",
        "        np.random.shuffle(shuffle_seed)\n",
        "        train_loader[i] = torch.utils.data.DataLoader(\n",
        "            PermutedMNISTDataLoader(train=True, shuffle_seed=shuffle_seed),\n",
        "                batch_size=batch_size)\n",
        "        \n",
        "        test_loader[i] = torch.utils.data.DataLoader(\n",
        "            PermutedMNISTDataLoader(train=False, shuffle_seed=shuffle_seed),\n",
        "                batch_size=batch_size)\n",
        "    \n",
        "    return train_loader, test_loader\n",
        "\n",
        "train_loader, test_loader = permute_mnist()"
      ],
      "execution_count": 0,
      "outputs": [
        {
          "output_type": "stream",
          "text": [
            "\r0it [00:00, ?it/s]"
          ],
          "name": "stderr"
        },
        {
          "output_type": "stream",
          "text": [
            "Downloading http://yann.lecun.com/exdb/mnist/train-images-idx3-ubyte.gz to ./mnist_data/PermutedMNISTDataLoader/raw/train-images-idx3-ubyte.gz\n"
          ],
          "name": "stdout"
        },
        {
          "output_type": "stream",
          "text": [
            "9920512it [00:02, 3609153.60it/s]                             \n"
          ],
          "name": "stderr"
        },
        {
          "output_type": "stream",
          "text": [
            "Extracting ./mnist_data/PermutedMNISTDataLoader/raw/train-images-idx3-ubyte.gz to ./mnist_data/PermutedMNISTDataLoader/raw\n"
          ],
          "name": "stdout"
        },
        {
          "output_type": "stream",
          "text": [
            "\r0it [00:00, ?it/s]"
          ],
          "name": "stderr"
        },
        {
          "output_type": "stream",
          "text": [
            "Downloading http://yann.lecun.com/exdb/mnist/train-labels-idx1-ubyte.gz to ./mnist_data/PermutedMNISTDataLoader/raw/train-labels-idx1-ubyte.gz\n"
          ],
          "name": "stdout"
        },
        {
          "output_type": "stream",
          "text": [
            "32768it [00:00, 58503.21it/s]                           \n",
            "0it [00:00, ?it/s]"
          ],
          "name": "stderr"
        },
        {
          "output_type": "stream",
          "text": [
            "Extracting ./mnist_data/PermutedMNISTDataLoader/raw/train-labels-idx1-ubyte.gz to ./mnist_data/PermutedMNISTDataLoader/raw\n",
            "Downloading http://yann.lecun.com/exdb/mnist/t10k-images-idx3-ubyte.gz to ./mnist_data/PermutedMNISTDataLoader/raw/t10k-images-idx3-ubyte.gz\n"
          ],
          "name": "stdout"
        },
        {
          "output_type": "stream",
          "text": [
            "1654784it [00:01, 973737.59it/s]                             \n",
            "0it [00:00, ?it/s]"
          ],
          "name": "stderr"
        },
        {
          "output_type": "stream",
          "text": [
            "Extracting ./mnist_data/PermutedMNISTDataLoader/raw/t10k-images-idx3-ubyte.gz to ./mnist_data/PermutedMNISTDataLoader/raw\n",
            "Downloading http://yann.lecun.com/exdb/mnist/t10k-labels-idx1-ubyte.gz to ./mnist_data/PermutedMNISTDataLoader/raw/t10k-labels-idx1-ubyte.gz\n"
          ],
          "name": "stdout"
        },
        {
          "output_type": "stream",
          "text": [
            "8192it [00:00, 21788.05it/s]            \n",
            "/usr/local/lib/python3.6/dist-packages/torchvision/datasets/mnist.py:53: UserWarning: train_data has been renamed data\n",
            "  warnings.warn(\"train_data has been renamed data\")\n"
          ],
          "name": "stderr"
        },
        {
          "output_type": "stream",
          "text": [
            "Extracting ./mnist_data/PermutedMNISTDataLoader/raw/t10k-labels-idx1-ubyte.gz to ./mnist_data/PermutedMNISTDataLoader/raw\n",
            "Processing...\n",
            "Done!\n"
          ],
          "name": "stdout"
        },
        {
          "output_type": "stream",
          "text": [
            "/usr/local/lib/python3.6/dist-packages/torchvision/datasets/mnist.py:58: UserWarning: test_data has been renamed data\n",
            "  warnings.warn(\"test_data has been renamed data\")\n"
          ],
          "name": "stderr"
        }
      ]
    },
    {
      "cell_type": "markdown",
      "metadata": {
        "id": "2M6_A9nTJYDi",
        "colab_type": "text"
      },
      "source": [
        "### Define Neural Net"
      ]
    },
    {
      "cell_type": "code",
      "metadata": {
        "id": "hfTLE0m3opep",
        "colab_type": "code",
        "colab": {}
      },
      "source": [
        "class NeuralNet(nn.Module):\n",
        "    def __init__(self):\n",
        "        # Always start with inheriting torch.nn.Module\n",
        "        # Ancestor class of all Neural Net module\n",
        "        super(NeuralNet, self).__init__()\n",
        "        # Linear: linear transformation\n",
        "        fc1 = nn.Linear(28*28, 400)\n",
        "        fc2 = nn.Linear(400, 400)\n",
        "        fc3 = nn.Linear(400, 10)\n",
        "  \n",
        "        \n",
        "        self.fc_module = nn.Sequential(\n",
        "            fc1,\n",
        "            nn.ReLU(),\n",
        "            fc2,\n",
        "            nn.ReLU(),\n",
        "            fc3\n",
        "        )\n",
        "        \n",
        "        if torch.cuda.is_available():\n",
        "            self.fc_module = self.fc_module.cuda()\n",
        "\n",
        "    def forward(self, x):\n",
        "        return self.fc_module(x)"
      ],
      "execution_count": 0,
      "outputs": []
    },
    {
      "cell_type": "markdown",
      "metadata": {
        "id": "TkX7OCUYJO5R",
        "colab_type": "text"
      },
      "source": [
        "### Get Fisher Matrix"
      ]
    },
    {
      "cell_type": "code",
      "metadata": {
        "id": "b7OWWTJV3KpZ",
        "colab_type": "code",
        "colab": {}
      },
      "source": [
        "def fisher(net, data_loader, task):\n",
        "    fisher_mat = []       \n",
        "    for i in range(task):\n",
        "        for n, data in enumerate(data_loader[i]):\n",
        "            if(n == task-i-1):\n",
        "                data_ = data[0]\n",
        "                break\n",
        "\n",
        "        if torch.cuda.is_available():\n",
        "            data_ = data_.cuda()\n",
        "\n",
        "        params = {n : p for n, p in net.named_parameters() if p.requires_grad}\n",
        "        fisher_mat_per_task = {}\n",
        "        for n, p in deepcopy(params).items():\n",
        "            p.data.zero_()\n",
        "            fisher_mat_per_task[n] = p.data\n",
        "\n",
        "        net.eval()\n",
        "        for data in data_:\n",
        "            net.zero_grad()\n",
        "            output = net(data).view(1, -1)\n",
        "            pred = output.max(1)[1].view(-1)\n",
        "            loss = F.nll_loss(F.log_softmax(output, dim=1), pred)\n",
        "            loss.backward()\n",
        "\n",
        "            for n, p in net.named_parameters():\n",
        "                fisher_mat_per_task[n].data += p.grad.data ** 2 / len(data_)\n",
        "\n",
        "        fisher_mat.append({n : p for n, p in fisher_mat_per_task.items()})\n",
        "    return fisher_mat\n",
        "\n",
        "############################################################################                \n",
        "    '''\n",
        "    params = {n : p for n, p in net.named_parameters() if p.requires_grad}\n",
        "    fisher_mat = {}\n",
        "    for n, p in deepcopy(params).items():\n",
        "        p.data.zero_()\n",
        "        fisher_mat[n] = p.data\n",
        "\n",
        "    net.eval()\n",
        "    for data in input:\n",
        "        net.zero_grad()\n",
        "        output = net(data).view(1, -1)\n",
        "        pred = output.max(1)[1].view(-1)\n",
        "        loss = F.nll_loss(F.log_softmax(output, dim=1), pred)\n",
        "        loss.backward()\n",
        "\n",
        "        for n, p in net.named_parameters():\n",
        "            fisher_mat[n].data += p.grad.data ** 2 / len(input)\n",
        "\n",
        "    fisher_mat = {n : p for n, p in fisher_mat.items()}\n",
        "    #print(\"Time: %.3f\" %(time.time() - start_time))\n",
        "    return fisher_mat\n",
        "    '''"
      ],
      "execution_count": 0,
      "outputs": []
    },
    {
      "cell_type": "markdown",
      "metadata": {
        "id": "tilDKYw6JT8v",
        "colab_type": "text"
      },
      "source": [
        "### Learning Function"
      ]
    },
    {
      "cell_type": "code",
      "metadata": {
        "id": "-dV5puTlos0S",
        "colab_type": "code",
        "colab": {}
      },
      "source": [
        "def Learning_Function(net, optimizer, num_tasks, reg_coef, learn_mode = 0):\n",
        "    if learn_mode > 2 or learn_mode < 0:\n",
        "        print(\"Learn mode Error\\nplain: 0\\tpenalty with L2 distance: 1\\tpenalty with ewc: 2\")\n",
        "        return False\n",
        "\n",
        "    criterion = nn.CrossEntropyLoss()\n",
        "    num_epochs = 20\n",
        "    sample_size = 100\n",
        "    acc = {}\n",
        "    params_per_tasks = []\n",
        "\n",
        "    print(\"Task\\tEpoch\")\n",
        "    for task in range(num_tasks):\n",
        "        running_loss = 0.0\n",
        "        \n",
        "        # Get Fisher Matrix\n",
        "        if len(params_per_tasks) != 0 and learn_mode == 2:\n",
        "            fisher_mat = fisher(net, train_loader, task)\n",
        "            \n",
        "        # Train for each task\n",
        "        for epoch in range(num_epochs):\n",
        "            for i, data in enumerate(train_loader[task]):\n",
        "                inputs, labels = data\n",
        "\n",
        "                if torch.cuda.is_available():\n",
        "                    inputs = inputs.cuda()\n",
        "                    labels = labels.cuda()\n",
        "\n",
        "                # gradient initiallize\n",
        "                optimizer.zero_grad()\n",
        "\n",
        "                # Compute forward-propagation\n",
        "                outputs = net(inputs)\n",
        "\n",
        "                # Compute Loss\n",
        "                loss = criterion(outputs, labels)\n",
        "\n",
        "                # Compute Loss & L2 distance\n",
        "                if learn_mode != 0:\n",
        "                    reg = 0\n",
        "                    ind = 0\n",
        "                    for params_past in params_per_tasks:\n",
        "                        for n, p in net.named_parameters():\n",
        "                            if torch.cuda.is_available():\n",
        "                                params_past[n] = params_past[n].cuda()\n",
        "                                \n",
        "                            penalty = (params_past[n] - p)**2\n",
        "                            # EWC: multiply fisher matrix\n",
        "                            if learn_mode == 2:\n",
        "                                penalty = fisher_mat[ind][n] * penalty\n",
        "\n",
        "                            reg += torch.sum(penalty)\n",
        "                        ind += 1\n",
        "                    loss = loss + (reg_coef / 2) * reg\n",
        "\n",
        "                #Do Back-propagation\n",
        "                loss.backward()\n",
        "                #Weight update\n",
        "                optimizer.step()\n",
        "\n",
        "                #cumulate loss\n",
        "                running_loss += loss.data.item()\n",
        "\n",
        "            if epoch % 5 == 4:\n",
        "                print('[%d\\t%d] AVG. loss: %.3f' % (task+1, epoch + 1, running_loss/(i*5)))\n",
        "                running_loss = 0.0\n",
        "\n",
        "        # Save parameters to use at next iteration: used to cal. penalty term      \n",
        "        if learn_mode != 0:\n",
        "            tp = {n : p for n, p in net.named_parameters() if p.requires_grad}\n",
        "            params = {}\n",
        "            for n, p in deepcopy(tp).items():\n",
        "                params[n] = p.data\n",
        "            params_per_tasks.append(params)\n",
        "\n",
        "            \n",
        "        # Test for each task after learning a task.\n",
        "        each_task_acc = []\n",
        "        for j in range(task+1):\n",
        "            total = 0\n",
        "            correct = 0\n",
        "            for i, data in enumerate(test_loader[j]):\n",
        "                inputs, labels = data\n",
        "                if torch.cuda.is_available():\n",
        "                    inputs = inputs.cuda()\n",
        "                    labels = labels.cuda()\n",
        "\n",
        "                # forward propagation\n",
        "                outputs = net(inputs)\n",
        "\n",
        "                # torch.max: returns maximum value of a tensor\n",
        "                _, predicted = torch.max(outputs.data, dim=1)\n",
        "                total += labels.size(0)\n",
        "                \n",
        "                # Estimate accuracy of model\n",
        "                correct += (predicted == labels).sum()\n",
        "                                \n",
        "            each_task_acc.append(100 * correct.cpu().numpy() / total)\n",
        "            \n",
        "        print(each_task_acc)\n",
        "        each_task_acc = np.asarray(each_task_acc)\n",
        "        print(each_task_acc)\n",
        "        print('Average accuracy after training task %d: %d %%' % (task+1, np.mean(each_task_acc)))\n",
        "        acc[task] = np.mean(each_task_acc)\n",
        "            # For each input data, print the accuracy of the model\n",
        "            #print('Accuracy of the network on the test images %d for task %d after training task %d: %d %%' \n",
        "            #                % (i, j, task+1, 100 * correct / total))\n",
        "            \n",
        "    return acc"
      ],
      "execution_count": 0,
      "outputs": []
    },
    {
      "cell_type": "markdown",
      "metadata": {
        "id": "dTYvapqh2kzS",
        "colab_type": "text"
      },
      "source": [
        "### Plain SGD"
      ]
    },
    {
      "cell_type": "code",
      "metadata": {
        "id": "fEn6wMQn1eKf",
        "colab_type": "code",
        "colab": {}
      },
      "source": [
        "def Plain_SGD_Learning(learning_rate, num_task):\n",
        "    net = NeuralNet()\n",
        "    if torch.cuda.is_available():\n",
        "        print(\"Use GPU\")\n",
        "        net.cuda()\n",
        "        \n",
        "    optimizer = optim.SGD(net.parameters(), lr=learning_rate)    \n",
        "    return Learning_Function(net, optimizer, num_task, reg_coef=1, learn_mode=0)"
      ],
      "execution_count": 0,
      "outputs": []
    },
    {
      "cell_type": "markdown",
      "metadata": {
        "id": "Xm5QWxH82rRW",
        "colab_type": "text"
      },
      "source": [
        "### Continual Learning with L2 distance"
      ]
    },
    {
      "cell_type": "code",
      "metadata": {
        "id": "3_3l5Jps1hpB",
        "colab_type": "code",
        "colab": {}
      },
      "source": [
        "def L2_Learning(learning_rate, num_task):\n",
        "    learning_acc = {}\n",
        "    reg_coef_list = [300,1000,3000,10000]\n",
        "    for reg_coef in reg_coef_list:\n",
        "        net = NeuralNet()\n",
        "        if torch.cuda.is_available():\n",
        "            print(\"Use GPU\")\n",
        "            net.cuda()\n",
        "            \n",
        "        optimizer = optim.SGD(net.parameters(), lr=learning_rate)    \n",
        "        print(\"Penalty term coefficient: \", reg_coef)\n",
        "        learning_acc[reg_coef] = Continual_Learning(net, optimizer, num_task, reg_coef, learn_mode=2)\n",
        "\n",
        "    return learning_acc"
      ],
      "execution_count": 0,
      "outputs": []
    },
    {
      "cell_type": "markdown",
      "metadata": {
        "id": "kjRo5YUR2wFz",
        "colab_type": "text"
      },
      "source": [
        "### Continual Learning with Elastic Weight Consolidation"
      ]
    },
    {
      "cell_type": "code",
      "metadata": {
        "id": "AM9tCwy31h6Q",
        "colab_type": "code",
        "colab": {}
      },
      "source": [
        "def EWC_Learning(learning_rate, num_task):\n",
        "    learning_acc = {}\n",
        "    reg_coef_list = [3, 10, 30, 100, 300, 1000, 3000, 10000]\n",
        "    for reg_coef in reg_coef_list:\n",
        "        net = NeuralNet()\n",
        "        if torch.cuda.is_available():\n",
        "            print(\"Use GPU\")\n",
        "            net.cuda()\n",
        "            \n",
        "        optimizer = optim.SGD(net.parameters(), lr=learning_rate)    \n",
        "        print(\"Penalty term coefficient: \", reg_coef)\n",
        "        learning_acc[reg_coef] = Continual_Learning(net, optimizer, num_task, reg_coef, learn_mode=2)\n",
        "\n",
        "    return learning_acc"
      ],
      "execution_count": 0,
      "outputs": []
    },
    {
      "cell_type": "code",
      "metadata": {
        "id": "U1oVDzZEqL92",
        "colab_type": "code",
        "outputId": "572d4b03-219d-4c55-cffd-920b0b9e63d8",
        "colab": {
          "base_uri": "https://localhost:8080/",
          "height": 1000
        }
      },
      "source": [
        "learning_rate = 1e-3\n",
        "num_task = 10\n",
        "\n",
        "SGD_acc = Plain_SGD_Learning(learning_rate, num_task)"
      ],
      "execution_count": 0,
      "outputs": [
        {
          "output_type": "stream",
          "text": [
            "Use GPU\n",
            "Task\tEpoch\n"
          ],
          "name": "stdout"
        },
        {
          "output_type": "stream",
          "text": [
            "/usr/local/lib/python3.6/dist-packages/torchvision/datasets/mnist.py:43: UserWarning: train_labels has been renamed targets\n",
            "  warnings.warn(\"train_labels has been renamed targets\")\n"
          ],
          "name": "stderr"
        },
        {
          "output_type": "stream",
          "text": [
            "[1\t5] AVG. loss: 2.111\n",
            "[1\t10] AVG. loss: 1.069\n",
            "[1\t15] AVG. loss: 0.569\n",
            "[1\t20] AVG. loss: 0.443\n",
            "[89.14]\n",
            "[89.14]\n",
            "Average accuracy after training task 1: 89 %\n"
          ],
          "name": "stdout"
        },
        {
          "output_type": "stream",
          "text": [
            "/usr/local/lib/python3.6/dist-packages/torchvision/datasets/mnist.py:48: UserWarning: test_labels has been renamed targets\n",
            "  warnings.warn(\"test_labels has been renamed targets\")\n"
          ],
          "name": "stderr"
        },
        {
          "output_type": "stream",
          "text": [
            "[2\t5] AVG. loss: 0.786\n",
            "[2\t10] AVG. loss: 0.436\n",
            "[2\t15] AVG. loss: 0.373\n",
            "[2\t20] AVG. loss: 0.340\n",
            "[86.53, 90.9]\n",
            "[86.53 90.9 ]\n",
            "Average accuracy after training task 2: 88 %\n",
            "[3\t5] AVG. loss: 0.643\n",
            "[3\t10] AVG. loss: 0.388\n",
            "[3\t15] AVG. loss: 0.342\n",
            "[3\t20] AVG. loss: 0.314\n",
            "[79.7, 87.65, 91.49]\n",
            "[79.7  87.65 91.49]\n",
            "Average accuracy after training task 3: 86 %\n",
            "[4\t5] AVG. loss: 0.605\n",
            "[4\t10] AVG. loss: 0.369\n",
            "[4\t15] AVG. loss: 0.326\n",
            "[4\t20] AVG. loss: 0.300\n",
            "[77.31, 82.56, 89.13, 91.94]\n",
            "[77.31 82.56 89.13 91.94]\n",
            "Average accuracy after training task 4: 85 %\n",
            "[5\t5] AVG. loss: 0.596\n",
            "[5\t10] AVG. loss: 0.349\n",
            "[5\t15] AVG. loss: 0.306\n",
            "[5\t20] AVG. loss: 0.280\n",
            "[75.08, 76.49, 82.57, 86.03, 92.41]\n",
            "[75.08 76.49 82.57 86.03 92.41]\n",
            "Average accuracy after training task 5: 82 %\n",
            "[6\t5] AVG. loss: 0.574\n",
            "[6\t10] AVG. loss: 0.339\n",
            "[6\t15] AVG. loss: 0.296\n",
            "[6\t20] AVG. loss: 0.269\n",
            "[72.97, 73.89, 77.2, 78.82, 89.23, 92.71]\n",
            "[72.97 73.89 77.2  78.82 89.23 92.71]\n",
            "Average accuracy after training task 6: 80 %\n",
            "[7\t5] AVG. loss: 0.554\n",
            "[7\t10] AVG. loss: 0.329\n",
            "[7\t15] AVG. loss: 0.287\n",
            "[7\t20] AVG. loss: 0.261\n",
            "[69.74, 68.26, 77.07, 78.25, 86.88, 85.07, 92.81]\n",
            "[69.74 68.26 77.07 78.25 86.88 85.07 92.81]\n",
            "Average accuracy after training task 7: 79 %\n",
            "[8\t5] AVG. loss: 0.567\n",
            "[8\t10] AVG. loss: 0.328\n",
            "[8\t15] AVG. loss: 0.285\n",
            "[8\t20] AVG. loss: 0.258\n",
            "[62.94, 64.61, 73.99, 75.52, 79.33, 75.9, 89.17, 93.03]\n",
            "[62.94 64.61 73.99 75.52 79.33 75.9  89.17 93.03]\n",
            "Average accuracy after training task 8: 76 %\n",
            "[9\t5] AVG. loss: 0.563\n",
            "[9\t10] AVG. loss: 0.317\n",
            "[9\t15] AVG. loss: 0.274\n",
            "[9\t20] AVG. loss: 0.247\n",
            "[65.66, 56.86, 60.18, 70.11, 71.81, 74.15, 85.46, 89.73, 93.25]\n",
            "[65.66 56.86 60.18 70.11 71.81 74.15 85.46 89.73 93.25]\n",
            "Average accuracy after training task 9: 74 %\n",
            "[10\t5] AVG. loss: 0.540\n",
            "[10\t10] AVG. loss: 0.307\n",
            "[10\t15] AVG. loss: 0.264\n",
            "[10\t20] AVG. loss: 0.238\n",
            "[58.38, 62.17, 55.93, 65.52, 66.52, 65.17, 82.45, 86.42, 89.43, 93.31]\n",
            "[58.38 62.17 55.93 65.52 66.52 65.17 82.45 86.42 89.43 93.31]\n",
            "Average accuracy after training task 10: 72 %\n"
          ],
          "name": "stdout"
        }
      ]
    },
    {
      "cell_type": "code",
      "metadata": {
        "id": "tnVxh4mi5VPD",
        "colab_type": "code",
        "outputId": "16418d28-7712-46b6-9f93-9abafdbd5bf7",
        "colab": {
          "base_uri": "https://localhost:8080/",
          "height": 295
        }
      },
      "source": [
        "x, y = list(SGD_acc.keys()), list(SGD_acc.values())\n",
        "plt.xlabel(\"# of tasks\")\n",
        "plt.ylabel(\"Avg. acc\")\n",
        "plt.title(\"Average Accuracies: Plain SGD\")\n",
        "plt.plot(x, y)\n",
        "plt.show()"
      ],
      "execution_count": 0,
      "outputs": [
        {
          "output_type": "display_data",
          "data": {
            "image/png": "[encoded data removed]",
            "text/plain": [
              "<Figure size 432x288 with 1 Axes>"
            ]
          },
          "metadata": {
            "tags": []
          }
        }
      ]
    },
    {
      "cell_type": "code",
      "metadata": {
        "id": "Rb-0sgFDbQPe",
        "colab_type": "code",
        "outputId": "2f2316e5-d33a-41d1-fc46-a471f8934dde",
        "colab": {
          "base_uri": "https://localhost:8080/",
          "height": 1000
        }
      },
      "source": [
        "EWC_acc = EWC_Learning(learning_rate, num_task)"
      ],
      "execution_count": 0,
      "outputs": [
        {
          "output_type": "stream",
          "text": [
            "Use GPU\n",
            "Penalty term coefficient:  3\n",
            "Task\tEpoch\n"
          ],
          "name": "stdout"
        },
        {
          "output_type": "stream",
          "text": [
            "/usr/local/lib/python3.6/dist-packages/torchvision/datasets/mnist.py:43: UserWarning: train_labels has been renamed targets\n",
            "  warnings.warn(\"train_labels has been renamed targets\")\n"
          ],
          "name": "stderr"
        },
        {
          "output_type": "stream",
          "text": [
            "[1\t5] AVG. loss: 2.115\n",
            "[1\t10] AVG. loss: 1.063\n",
            "[1\t15] AVG. loss: 0.567\n",
            "[1\t20] AVG. loss: 0.443\n",
            "[89.25]\n",
            "[89.25]\n",
            "Average accuracy after training task 1: 89 %\n"
          ],
          "name": "stdout"
        },
        {
          "output_type": "stream",
          "text": [
            "/usr/local/lib/python3.6/dist-packages/torchvision/datasets/mnist.py:48: UserWarning: test_labels has been renamed targets\n",
            "  warnings.warn(\"test_labels has been renamed targets\")\n"
          ],
          "name": "stderr"
        },
        {
          "output_type": "stream",
          "text": [
            "[2\t5] AVG. loss: 0.790\n",
            "[2\t10] AVG. loss: 0.443\n",
            "[2\t15] AVG. loss: 0.383\n",
            "[2\t20] AVG. loss: 0.351\n",
            "[86.61, 90.79]\n",
            "[86.61 90.79]\n",
            "Average accuracy after training task 2: 88 %\n",
            "[3\t5] AVG. loss: 0.676\n",
            "[3\t10] AVG. loss: 0.412\n",
            "[3\t15] AVG. loss: 0.367\n",
            "[3\t20] AVG. loss: 0.341\n",
            "[79.93, 87.84, 91.48]\n",
            "[79.93 87.84 91.48]\n",
            "Average accuracy after training task 3: 86 %\n",
            "[4\t5] AVG. loss: 0.646\n",
            "[4\t10] AVG. loss: 0.407\n",
            "[4\t15] AVG. loss: 0.365\n",
            "[4\t20] AVG. loss: 0.341\n",
            "[79.0, 82.69, 88.8, 91.66]\n",
            "[79.   82.69 88.8  91.66]\n",
            "Average accuracy after training task 4: 85 %\n",
            "[5\t5] AVG. loss: 0.670\n",
            "[5\t10] AVG. loss: 0.415\n",
            "[5\t15] AVG. loss: 0.374\n",
            "[5\t20] AVG. loss: 0.350\n",
            "[81.17, 79.6, 82.62, 86.36, 91.78]\n",
            "[81.17 79.6  82.62 86.36 91.78]\n",
            "Average accuracy after training task 5: 84 %\n",
            "[6\t5] AVG. loss: 0.677\n",
            "[6\t10] AVG. loss: 0.433\n",
            "[6\t15] AVG. loss: 0.391\n",
            "[6\t20] AVG. loss: 0.366\n",
            "[77.15, 79.54, 80.79, 82.28, 87.74, 92.0]\n",
            "[77.15 79.54 80.79 82.28 87.74 92.  ]\n",
            "Average accuracy after training task 6: 83 %\n",
            "[7\t5] AVG. loss: 0.663\n",
            "[7\t10] AVG. loss: 0.433\n",
            "[7\t15] AVG. loss: 0.393\n",
            "[7\t20] AVG. loss: 0.369\n",
            "[74.34, 78.74, 80.48, 79.84, 84.12, 83.67, 92.13]\n",
            "[74.34 78.74 80.48 79.84 84.12 83.67 92.13]\n",
            "Average accuracy after training task 7: 81 %\n",
            "[8\t5] AVG. loss: 0.723\n",
            "[8\t10] AVG. loss: 0.471\n",
            "[8\t15] AVG. loss: 0.428\n",
            "[8\t20] AVG. loss: 0.404\n",
            "[72.66, 78.82, 81.42, 78.98, 78.31, 74.34, 88.61, 92.08]\n",
            "[72.66 78.82 81.42 78.98 78.31 74.34 88.61 92.08]\n",
            "Average accuracy after training task 8: 80 %\n",
            "[9\t5] AVG. loss: 0.772\n",
            "[9\t10] AVG. loss: 0.505\n",
            "[9\t15] AVG. loss: 0.461\n",
            "[9\t20] AVG. loss: 0.435\n",
            "[78.1, 77.88, 73.12, 74.15, 76.99, 72.7, 80.49, 86.79, 92.24]\n",
            "[78.1  77.88 73.12 74.15 76.99 72.7  80.49 86.79 92.24]\n",
            "Average accuracy after training task 9: 79 %\n",
            "[10\t5] AVG. loss: 0.771\n",
            "[10\t10] AVG. loss: 0.527\n",
            "[10\t15] AVG. loss: 0.483\n",
            "[10\t20] AVG. loss: 0.456\n",
            "[76.27, 80.31, 76.88, 73.79, 74.6, 67.67, 75.0, 75.55, 84.73, 92.01]\n",
            "[76.27 80.31 76.88 73.79 74.6  67.67 75.   75.55 84.73 92.01]\n",
            "Average accuracy after training task 10: 77 %\n",
            "Use GPU\n",
            "Penalty term coefficient:  10\n",
            "Task\tEpoch\n",
            "[1\t5] AVG. loss: 2.100\n",
            "[1\t10] AVG. loss: 1.040\n",
            "[1\t15] AVG. loss: 0.561\n",
            "[1\t20] AVG. loss: 0.439\n",
            "[89.23]\n",
            "[89.23]\n",
            "Average accuracy after training task 1: 89 %\n",
            "[2\t5] AVG. loss: 0.803\n",
            "[2\t10] AVG. loss: 0.448\n",
            "[2\t15] AVG. loss: 0.389\n",
            "[2\t20] AVG. loss: 0.358\n",
            "[86.01, 90.52]\n",
            "[86.01 90.52]\n",
            "Average accuracy after training task 2: 88 %\n",
            "[3\t5] AVG. loss: 0.704\n",
            "[3\t10] AVG. loss: 0.434\n",
            "[3\t15] AVG. loss: 0.387\n",
            "[3\t20] AVG. loss: 0.361\n",
            "[80.21, 87.58, 91.37]\n",
            "[80.21 87.58 91.37]\n",
            "Average accuracy after training task 3: 86 %\n",
            "[4\t5] AVG. loss: 0.712\n",
            "[4\t10] AVG. loss: 0.459\n",
            "[4\t15] AVG. loss: 0.414\n",
            "[4\t20] AVG. loss: 0.389\n",
            "[82.29, 82.96, 88.86, 91.3]\n",
            "[82.29 82.96 88.86 91.3 ]\n",
            "Average accuracy after training task 4: 86 %\n",
            "[5\t5] AVG. loss: 0.743\n",
            "[5\t10] AVG. loss: 0.478\n",
            "[5\t15] AVG. loss: 0.434\n",
            "[5\t20] AVG. loss: 0.408\n",
            "[83.39, 81.09, 82.24, 85.72, 91.42]\n",
            "[83.39 81.09 82.24 85.72 91.42]\n",
            "Average accuracy after training task 5: 84 %\n",
            "[6\t5] AVG. loss: 0.762\n",
            "[6\t10] AVG. loss: 0.506\n",
            "[6\t15] AVG. loss: 0.462\n",
            "[6\t20] AVG. loss: 0.435\n",
            "[79.29, 83.51, 82.59, 81.11, 85.61, 91.58]\n",
            "[79.29 83.51 82.59 81.11 85.61 91.58]\n",
            "Average accuracy after training task 6: 83 %\n",
            "[7\t5] AVG. loss: 0.760\n",
            "[7\t10] AVG. loss: 0.518\n",
            "[7\t15] AVG. loss: 0.476\n",
            "[7\t20] AVG. loss: 0.451\n",
            "[78.03, 83.39, 81.76, 80.23, 76.11, 77.24, 91.52]\n",
            "[78.03 83.39 81.76 80.23 76.11 77.24 91.52]\n",
            "Average accuracy after training task 7: 81 %\n",
            "[8\t5] AVG. loss: 0.863\n",
            "[8\t10] AVG. loss: 0.603\n",
            "[8\t15] AVG. loss: 0.555\n",
            "[8\t20] AVG. loss: 0.527\n",
            "[78.48, 82.23, 83.6, 79.29, 79.08, 69.48, 82.29, 91.54]\n",
            "[78.48 82.23 83.6  79.29 79.08 69.48 82.29 91.54]\n",
            "Average accuracy after training task 8: 80 %\n",
            "[9\t5] AVG. loss: 0.936\n",
            "[9\t10] AVG. loss: 0.662\n",
            "[9\t15] AVG. loss: 0.613\n",
            "[9\t20] AVG. loss: 0.584\n",
            "[81.69, 82.89, 82.61, 77.64, 80.0, 72.98, 71.91, 80.42, 91.43]\n",
            "[81.69 82.89 82.61 77.64 80.   72.98 71.91 80.42 91.43]\n",
            "Average accuracy after training task 9: 80 %\n",
            "[10\t5] AVG. loss: 0.942\n",
            "[10\t10] AVG. loss: 0.693\n",
            "[10\t15] AVG. loss: 0.644\n",
            "[10\t20] AVG. loss: 0.616\n",
            "[79.36, 79.2, 79.09, 75.68, 74.67, 65.83, 73.0, 63.81, 70.86, 91.31]\n",
            "[79.36 79.2  79.09 75.68 74.67 65.83 73.   63.81 70.86 91.31]\n",
            "Average accuracy after training task 10: 75 %\n",
            "Use GPU\n",
            "Penalty term coefficient:  30\n",
            "Task\tEpoch\n",
            "[1\t5] AVG. loss: 2.129\n",
            "[1\t10] AVG. loss: 1.094\n",
            "[1\t15] AVG. loss: 0.570\n",
            "[1\t20] AVG. loss: 0.442\n",
            "[88.97]\n",
            "[88.97]\n",
            "Average accuracy after training task 1: 88 %\n",
            "[2\t5] AVG. loss: 0.801\n",
            "[2\t10] AVG. loss: 0.462\n",
            "[2\t15] AVG. loss: 0.405\n",
            "[2\t20] AVG. loss: 0.376\n",
            "[87.27, 90.33]\n",
            "[87.27 90.33]\n",
            "Average accuracy after training task 2: 88 %\n",
            "[3\t5] AVG. loss: 0.744\n",
            "[3\t10] AVG. loss: 0.470\n",
            "[3\t15] AVG. loss: 0.424\n",
            "[3\t20] AVG. loss: 0.398\n",
            "[83.01, 87.49, 90.96]\n",
            "[83.01 87.49 90.96]\n",
            "Average accuracy after training task 3: 87 %\n",
            "[4\t5] AVG. loss: 0.754\n",
            "[4\t10] AVG. loss: 0.505\n",
            "[4\t15] AVG. loss: 0.460\n",
            "[4\t20] AVG. loss: 0.435\n",
            "[84.05, 84.61, 87.42, 91.06]\n",
            "[84.05 84.61 87.42 91.06]\n",
            "Average accuracy after training task 4: 86 %\n",
            "[5\t5] AVG. loss: 0.837\n",
            "[5\t10] AVG. loss: 0.568\n",
            "[5\t15] AVG. loss: 0.519\n",
            "[5\t20] AVG. loss: 0.492\n",
            "[84.78, 84.92, 80.63, 82.18, 90.75]\n",
            "[84.78 84.92 80.63 82.18 90.75]\n",
            "Average accuracy after training task 5: 84 %\n",
            "[6\t5] AVG. loss: 0.902\n",
            "[6\t10] AVG. loss: 0.639\n",
            "[6\t15] AVG. loss: 0.588\n",
            "[6\t20] AVG. loss: 0.560\n",
            "[84.0, 86.58, 83.24, 80.15, 77.65, 90.89]\n",
            "[84.   86.58 83.24 80.15 77.65 90.89]\n",
            "Average accuracy after training task 6: 83 %\n",
            "[7\t5] AVG. loss: 0.900\n",
            "[7\t10] AVG. loss: 0.648\n",
            "[7\t15] AVG. loss: 0.601\n",
            "[7\t20] AVG. loss: 0.574\n",
            "[82.59, 86.13, 82.88, 82.62, 74.81, 62.34, 90.61]\n",
            "[82.59 86.13 82.88 82.62 74.81 62.34 90.61]\n",
            "Average accuracy after training task 7: 80 %\n",
            "[8\t5] AVG. loss: 1.049\n",
            "[8\t10] AVG. loss: 0.780\n",
            "[8\t15] AVG. loss: 0.728\n",
            "[8\t20] AVG. loss: 0.700\n",
            "[83.35, 85.14, 84.04, 80.63, 80.61, 70.15, 70.63, 90.2]\n",
            "[83.35 85.14 84.04 80.63 80.61 70.15 70.63 90.2 ]\n",
            "Average accuracy after training task 8: 80 %\n",
            "[9\t5] AVG. loss: 1.198\n",
            "[9\t10] AVG. loss: 0.905\n",
            "[9\t15] AVG. loss: 0.853\n",
            "[9\t20] AVG. loss: 0.825\n",
            "[85.74, 84.95, 82.92, 78.83, 79.19, 70.22, 68.29, 61.27, 90.16]\n",
            "[85.74 84.95 82.92 78.83 79.19 70.22 68.29 61.27 90.16]\n",
            "Average accuracy after training task 9: 77 %\n",
            "[10\t5] AVG. loss: 1.324\n",
            "[10\t10] AVG. loss: 1.051\n",
            "[10\t15] AVG. loss: 0.998\n",
            "[10\t20] AVG. loss: 0.972\n",
            "[83.98, 81.47, 80.13, 76.89, 74.45, 69.08, 73.57, 66.74, 48.75, 89.89]\n",
            "[83.98 81.47 80.13 76.89 74.45 69.08 73.57 66.74 48.75 89.89]\n",
            "Average accuracy after training task 10: 74 %\n",
            "Use GPU\n",
            "Penalty term coefficient:  100\n",
            "Task\tEpoch\n",
            "[1\t5] AVG. loss: 2.091\n",
            "[1\t10] AVG. loss: 1.024\n",
            "[1\t15] AVG. loss: 0.561\n",
            "[1\t20] AVG. loss: 0.442\n",
            "[89.19]\n",
            "[89.19]\n",
            "Average accuracy after training task 1: 89 %\n",
            "[2\t5] AVG. loss: 0.810\n",
            "[2\t10] AVG. loss: 0.488\n",
            "[2\t15] AVG. loss: 0.432\n",
            "[2\t20] AVG. loss: 0.403\n",
            "[87.65, 90.24]\n",
            "[87.65 90.24]\n",
            "Average accuracy after training task 2: 88 %\n",
            "[3\t5] AVG. loss: 0.802\n",
            "[3\t10] AVG. loss: 0.523\n",
            "[3\t15] AVG. loss: 0.473\n",
            "[3\t20] AVG. loss: 0.446\n",
            "[84.67, 87.48, 90.51]\n",
            "[84.67 87.48 90.51]\n",
            "Average accuracy after training task 3: 87 %\n",
            "[4\t5] AVG. loss: 0.886\n",
            "[4\t10] AVG. loss: 0.619\n",
            "[4\t15] AVG. loss: 0.566\n",
            "[4\t20] AVG. loss: 0.536\n",
            "[86.78, 86.58, 85.11, 90.3]\n",
            "[86.78 86.58 85.11 90.3 ]\n",
            "Average accuracy after training task 4: 87 %\n",
            "[5\t5] AVG. loss: 1.033\n",
            "[5\t10] AVG. loss: 0.740\n",
            "[5\t15] AVG. loss: 0.683\n",
            "[5\t20] AVG. loss: 0.652\n",
            "[86.8, 87.63, 81.53, 75.98, 90.08]\n",
            "[86.8  87.63 81.53 75.98 90.08]\n",
            "Average accuracy after training task 5: 84 %\n",
            "[6\t5] AVG. loss: 1.156\n",
            "[6\t10] AVG. loss: 0.872\n",
            "[6\t15] AVG. loss: 0.818\n",
            "[6\t20] AVG. loss: 0.790\n",
            "[86.38, 86.84, 84.93, 82.0, 66.22, 89.6]\n",
            "[86.38 86.84 84.93 82.   66.22 89.6 ]\n",
            "Average accuracy after training task 6: 82 %\n",
            "[7\t5] AVG. loss: 1.164\n",
            "[7\t10] AVG. loss: 0.890\n",
            "[7\t15] AVG. loss: 0.841\n",
            "[7\t20] AVG. loss: 0.816\n",
            "[86.27, 87.65, 83.61, 82.8, 79.88, 57.92, 89.41]\n",
            "[86.27 87.65 83.61 82.8  79.88 57.92 89.41]\n",
            "Average accuracy after training task 7: 81 %\n",
            "[8\t5] AVG. loss: 1.442\n",
            "[8\t10] AVG. loss: 1.141\n",
            "[8\t15] AVG. loss: 1.090\n",
            "[8\t20] AVG. loss: 1.065\n",
            "[86.31, 86.27, 84.69, 81.8, 79.86, 73.96, 55.96, 87.77]\n",
            "[86.31 86.27 84.69 81.8  79.86 73.96 55.96 87.77]\n",
            "Average accuracy after training task 8: 79 %\n",
            "[9\t5] AVG. loss: 1.684\n",
            "[9\t10] AVG. loss: 1.365\n",
            "[9\t15] AVG. loss: 1.316\n",
            "[9\t20] AVG. loss: 1.292\n",
            "[85.26, 84.69, 82.98, 78.84, 80.73, 72.99, 71.88, 45.95, 87.78]\n",
            "[85.26 84.69 82.98 78.84 80.73 72.99 71.88 45.95 87.78]\n",
            "Average accuracy after training task 9: 76 %\n",
            "[10\t5] AVG. loss: 2.006\n",
            "[10\t10] AVG. loss: 1.705\n",
            "[10\t15] AVG. loss: 1.664\n",
            "[10\t20] AVG. loss: 1.645\n",
            "[86.01, 82.61, 80.73, 77.58, 76.67, 71.1, 69.63, 63.94, 33.2, 86.98]\n",
            "[86.01 82.61 80.73 77.58 76.67 71.1  69.63 63.94 33.2  86.98]\n",
            "Average accuracy after training task 10: 72 %\n",
            "Use GPU\n",
            "Penalty term coefficient:  300\n",
            "Task\tEpoch\n",
            "[1\t5] AVG. loss: 2.111\n",
            "[1\t10] AVG. loss: 1.076\n",
            "[1\t15] AVG. loss: 0.567\n",
            "[1\t20] AVG. loss: 0.440\n",
            "[89.22]\n",
            "[89.22]\n",
            "Average accuracy after training task 1: 89 %\n",
            "[2\t5] AVG. loss: 0.846\n",
            "[2\t10] AVG. loss: 0.526\n",
            "[2\t15] AVG. loss: 0.467\n",
            "[2\t20] AVG. loss: 0.435\n",
            "[88.05, 89.91]\n",
            "[88.05 89.91]\n",
            "Average accuracy after training task 2: 88 %\n",
            "[3\t5] AVG. loss: 0.886\n",
            "[3\t10] AVG. loss: 0.609\n",
            "[3\t15] AVG. loss: 0.554\n",
            "[3\t20] AVG. loss: 0.522\n",
            "[85.55, 87.58, 90.02]\n",
            "[85.55 87.58 90.02]\n",
            "Average accuracy after training task 3: 87 %\n",
            "[4\t5] AVG. loss: 1.019\n",
            "[4\t10] AVG. loss: 0.752\n",
            "[4\t15] AVG. loss: 0.697\n",
            "[4\t20] AVG. loss: 0.666\n",
            "[87.52, 88.14, 84.31, 89.04]\n",
            "[87.52 88.14 84.31 89.04]\n",
            "Average accuracy after training task 4: 87 %\n",
            "[5\t5] AVG. loss: 1.257\n",
            "[5\t10] AVG. loss: 0.946\n",
            "[5\t15] AVG. loss: 0.886\n",
            "[5\t20] AVG. loss: 0.853\n",
            "[87.48, 87.54, 80.98, 76.56, 88.75]\n",
            "[87.48 87.54 80.98 76.56 88.75]\n",
            "Average accuracy after training task 5: 84 %\n",
            "[6\t5] AVG. loss: 1.503\n",
            "[6\t10] AVG. loss: 1.203\n",
            "[6\t15] AVG. loss: 1.149\n",
            "[6\t20] AVG. loss: 1.120\n",
            "[86.94, 87.15, 83.55, 82.51, 63.79, 87.38]\n",
            "[86.94 87.15 83.55 82.51 63.79 87.38]\n",
            "Average accuracy after training task 6: 81 %\n",
            "[7\t5] AVG. loss: 1.579\n",
            "[7\t10] AVG. loss: 1.300\n",
            "[7\t15] AVG. loss: 1.255\n",
            "[7\t20] AVG. loss: 1.230\n",
            "[86.55, 87.54, 82.87, 81.08, 76.76, 57.7, 86.77]\n",
            "[86.55 87.54 82.87 81.08 76.76 57.7  86.77]\n",
            "Average accuracy after training task 7: 79 %\n",
            "[8\t5] AVG. loss: 1.979\n",
            "[8\t10] AVG. loss: 1.677\n",
            "[8\t15] AVG. loss: 1.632\n",
            "[8\t20] AVG. loss: 1.608\n",
            "[87.02, 87.23, 83.42, 81.66, 78.85, 75.53, 51.0, 84.44]\n",
            "[87.02 87.23 83.42 81.66 78.85 75.53 51.   84.44]\n",
            "Average accuracy after training task 8: 78 %\n",
            "[9\t5] AVG. loss: 2.449\n",
            "[9\t10] AVG. loss: 2.143\n",
            "[9\t15] AVG. loss: 2.104\n",
            "[9\t20] AVG. loss: 2.083\n",
            "[85.97, 84.85, 81.25, 78.71, 78.78, 69.89, 70.71, 44.25, 82.64]\n",
            "[85.97 84.85 81.25 78.71 78.78 69.89 70.71 44.25 82.64]\n",
            "Average accuracy after training task 9: 75 %\n",
            "[10\t5] AVG. loss: 3.117\n",
            "[10\t10] AVG. loss: 2.847\n",
            "[10\t15] AVG. loss: 2.820\n",
            "[10\t20] AVG. loss: 2.805\n",
            "[85.65, 82.52, 78.8, 78.35, 74.26, 72.96, 64.72, 60.7, 30.62, 80.14]\n",
            "[85.65 82.52 78.8  78.35 74.26 72.96 64.72 60.7  30.62 80.14]\n",
            "Average accuracy after training task 10: 70 %\n",
            "Use GPU\n",
            "Penalty term coefficient:  1000\n",
            "Task\tEpoch\n",
            "[1\t5] AVG. loss: 2.101\n",
            "[1\t10] AVG. loss: 1.054\n",
            "[1\t15] AVG. loss: 0.566\n",
            "[1\t20] AVG. loss: 0.443\n",
            "[89.12]\n",
            "[89.12]\n",
            "Average accuracy after training task 1: 89 %\n",
            "[2\t5] AVG. loss: 0.900\n",
            "[2\t10] AVG. loss: 0.585\n",
            "[2\t15] AVG. loss: 0.518\n",
            "[2\t20] AVG. loss: 0.480\n",
            "[88.39, 89.48]\n",
            "[88.39 89.48]\n",
            "Average accuracy after training task 2: 88 %\n",
            "[3\t5] AVG. loss: 1.059\n",
            "[3\t10] AVG. loss: 0.754\n",
            "[3\t15] AVG. loss: 0.681\n",
            "[3\t20] AVG. loss: 0.640\n",
            "[87.47, 87.62, 88.66]\n",
            "[87.47 87.62 88.66]\n",
            "Average accuracy after training task 3: 87 %\n"
          ],
          "name": "stdout"
        }
      ]
    },
    {
      "cell_type": "code",
      "metadata": {
        "id": "QWeAfeME6t8y",
        "colab_type": "code",
        "colab": {}
      },
      "source": [
        ""
      ],
      "execution_count": 0,
      "outputs": []
    }
  ]
}