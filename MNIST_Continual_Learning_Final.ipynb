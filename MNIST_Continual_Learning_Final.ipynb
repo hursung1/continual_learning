{
  "nbformat": 4,
  "nbformat_minor": 0,
  "metadata": {
    "colab": {
      "name": "MNIST_Continual_Learning_Final.ipynb",
      "provenance": [],
      "collapsed_sections": [],
      "toc_visible": true
    },
    "kernelspec": {
      "name": "python3",
      "display_name": "Python 3"
    },
    "accelerator": "GPU"
  },
  "cells": [
    {
      "cell_type": "code",
      "metadata": {
        "id": "TxSnkStJoYDA",
        "colab_type": "code",
        "colab": {}
      },
      "source": [
        "import numpy as np\n",
        "import matplotlib.pyplot as plt\n",
        "from copy import deepcopy\n",
        "import random\n",
        "import datetime\n",
        "\n",
        "import torch\n",
        "import torch.nn as nn\n",
        "import torch.nn.functional as F\n",
        "import torch.optim as optim\n",
        "from torch.autograd import Variable\n",
        "import torchvision\n",
        "import torchvision.transforms as transforms"
      ],
      "execution_count": 0,
      "outputs": []
    },
    {
      "cell_type": "code",
      "metadata": {
        "id": "CXtTo6L2TeQG",
        "colab_type": "code",
        "colab": {}
      },
      "source": [
        "class PermutedMNISTDataLoader(torchvision.datasets.MNIST):\n",
        "    \n",
        "    def __init__(self, source='./mnist_data', train = True, shuffle_seed = None):\n",
        "        super(PermutedMNISTDataLoader, self).__init__(source, train, download=True)\n",
        "        \n",
        "        self.train = train\n",
        "        if self.train:\n",
        "            self.permuted_train_data = torch.stack(\n",
        "                [img.type(dtype=torch.float32).view(-1)[shuffle_seed] / 255.0\n",
        "                    for img in self.train_data])\n",
        "        else:\n",
        "            self.permuted_test_data = torch.stack(\n",
        "                [img.type(dtype=torch.float32).view(-1)[shuffle_seed] / 255.0\n",
        "                    for img in self.test_data])\n",
        "            \n",
        "    def __getitem__(self, index):\n",
        "        \n",
        "        if self.train:\n",
        "            input, label = self.permuted_train_data[index], self.train_labels[index]\n",
        "        else:\n",
        "            input, label = self.permuted_test_data[index], self.test_labels[index]\n",
        "        \n",
        "        return input, label\n",
        "\n",
        "    def sample(self, size):\n",
        "        return [img for img in self.permuted_train_data[random.sample(range(len(self), size))]]\n",
        "    \n",
        "    '''\n",
        "    def __len__(self):\n",
        "        if self.train:\n",
        "            return self.train_data.size()\n",
        "        else:\n",
        "            return self.test_data.size()\n",
        "    '''"
      ],
      "execution_count": 0,
      "outputs": []
    },
    {
      "cell_type": "markdown",
      "metadata": {
        "id": "pAfp_51gwt-M",
        "colab_type": "text"
      },
      "source": [
        "#### Set hyperparameters & get permuted MNIST"
      ]
    },
    {
      "cell_type": "code",
      "metadata": {
        "id": "pEUfd3K_oiYV",
        "colab_type": "code",
        "outputId": "fc4b82c8-afab-449e-b306-440633020619",
        "colab": {
          "base_uri": "https://localhost:8080/",
          "height": 354
        }
      },
      "source": [
        "batch_size = 64\n",
        "learning_rate = 1e-3\n",
        "num_task = 10\n",
        "num_epochs = 20\n",
        "sample_size = 100\n",
        "\n",
        "criterion = nn.CrossEntropyLoss()\n",
        "\n",
        "def permute_mnist():\n",
        "    train_loader = {}\n",
        "    test_loader = {}\n",
        "    \n",
        "    for i in range(num_task):\n",
        "        shuffle_seed = np.arange(28*28)\n",
        "        np.random.shuffle(shuffle_seed)\n",
        "        train_loader[i] = torch.utils.data.DataLoader(\n",
        "            PermutedMNISTDataLoader(train=True, shuffle_seed=shuffle_seed),\n",
        "                batch_size=batch_size)\n",
        "        \n",
        "        test_loader[i] = torch.utils.data.DataLoader(\n",
        "            PermutedMNISTDataLoader(train=False, shuffle_seed=shuffle_seed),\n",
        "                batch_size=batch_size)\n",
        "    \n",
        "    return train_loader, test_loader\n",
        "\n",
        "train_loader, test_loader = permute_mnist()"
      ],
      "execution_count": 3,
      "outputs": [
        {
          "output_type": "stream",
          "text": [
            "\r0it [00:00, ?it/s]"
          ],
          "name": "stderr"
        },
        {
          "output_type": "stream",
          "text": [
            "Downloading http://yann.lecun.com/exdb/mnist/train-images-idx3-ubyte.gz to ./mnist_data/PermutedMNISTDataLoader/raw/train-images-idx3-ubyte.gz\n"
          ],
          "name": "stdout"
        },
        {
          "output_type": "stream",
          "text": [
            "9920512it [00:01, 8272148.50it/s]                            \n"
          ],
          "name": "stderr"
        },
        {
          "output_type": "stream",
          "text": [
            "Extracting ./mnist_data/PermutedMNISTDataLoader/raw/train-images-idx3-ubyte.gz to ./mnist_data/PermutedMNISTDataLoader/raw\n"
          ],
          "name": "stdout"
        },
        {
          "output_type": "stream",
          "text": [
            "  0%|          | 0/28881 [00:00<?, ?it/s]"
          ],
          "name": "stderr"
        },
        {
          "output_type": "stream",
          "text": [
            "Downloading http://yann.lecun.com/exdb/mnist/train-labels-idx1-ubyte.gz to ./mnist_data/PermutedMNISTDataLoader/raw/train-labels-idx1-ubyte.gz\n"
          ],
          "name": "stdout"
        },
        {
          "output_type": "stream",
          "text": [
            "32768it [00:00, 124680.75it/s]           \n",
            "  0%|          | 0/1648877 [00:00<?, ?it/s]"
          ],
          "name": "stderr"
        },
        {
          "output_type": "stream",
          "text": [
            "Extracting ./mnist_data/PermutedMNISTDataLoader/raw/train-labels-idx1-ubyte.gz to ./mnist_data/PermutedMNISTDataLoader/raw\n",
            "Downloading http://yann.lecun.com/exdb/mnist/t10k-images-idx3-ubyte.gz to ./mnist_data/PermutedMNISTDataLoader/raw/t10k-images-idx3-ubyte.gz\n"
          ],
          "name": "stdout"
        },
        {
          "output_type": "stream",
          "text": [
            "1654784it [00:00, 2129055.33it/s]                            \n",
            "0it [00:00, ?it/s]"
          ],
          "name": "stderr"
        },
        {
          "output_type": "stream",
          "text": [
            "Extracting ./mnist_data/PermutedMNISTDataLoader/raw/t10k-images-idx3-ubyte.gz to ./mnist_data/PermutedMNISTDataLoader/raw\n",
            "Downloading http://yann.lecun.com/exdb/mnist/t10k-labels-idx1-ubyte.gz to ./mnist_data/PermutedMNISTDataLoader/raw/t10k-labels-idx1-ubyte.gz\n"
          ],
          "name": "stdout"
        },
        {
          "output_type": "stream",
          "text": [
            "8192it [00:00, 47491.26it/s]            \n",
            "/usr/local/lib/python3.6/dist-packages/torchvision/datasets/mnist.py:53: UserWarning: train_data has been renamed data\n",
            "  warnings.warn(\"train_data has been renamed data\")\n"
          ],
          "name": "stderr"
        },
        {
          "output_type": "stream",
          "text": [
            "Extracting ./mnist_data/PermutedMNISTDataLoader/raw/t10k-labels-idx1-ubyte.gz to ./mnist_data/PermutedMNISTDataLoader/raw\n",
            "Processing...\n",
            "Done!\n"
          ],
          "name": "stdout"
        },
        {
          "output_type": "stream",
          "text": [
            "/usr/local/lib/python3.6/dist-packages/torchvision/datasets/mnist.py:58: UserWarning: test_data has been renamed data\n",
            "  warnings.warn(\"test_data has been renamed data\")\n"
          ],
          "name": "stderr"
        }
      ]
    },
    {
      "cell_type": "markdown",
      "metadata": {
        "id": "2M6_A9nTJYDi",
        "colab_type": "text"
      },
      "source": [
        "### Define Neural Net"
      ]
    },
    {
      "cell_type": "code",
      "metadata": {
        "id": "hfTLE0m3opep",
        "colab_type": "code",
        "colab": {}
      },
      "source": [
        "class NeuralNet(nn.Module):\n",
        "    def __init__(self):\n",
        "        # Always start with inheriting torch.nn.Module\n",
        "        # Ancestor class of all Neural Net module\n",
        "        super(NeuralNet, self).__init__()\n",
        "        # Linear: linear transformation\n",
        "        fc1 = nn.Linear(28*28, 400)\n",
        "        fc2 = nn.Linear(400, 400)\n",
        "        fc3 = nn.Linear(400, 10)\n",
        "  \n",
        "        \n",
        "        self.fc_module = nn.Sequential(\n",
        "            fc1,\n",
        "            nn.ReLU(),\n",
        "            fc2,\n",
        "            nn.ReLU(),\n",
        "            fc3\n",
        "        )\n",
        "        \n",
        "        if torch.cuda.is_available():\n",
        "            self.fc_module = self.fc_module.cuda()\n",
        "\n",
        "    def forward(self, x):\n",
        "        return self.fc_module(x)"
      ],
      "execution_count": 0,
      "outputs": []
    },
    {
      "cell_type": "markdown",
      "metadata": {
        "id": "TkX7OCUYJO5R",
        "colab_type": "text"
      },
      "source": [
        "### Get Fisher Matrix"
      ]
    },
    {
      "cell_type": "code",
      "metadata": {
        "id": "Wp16PawDy8cu",
        "colab_type": "code",
        "colab": {}
      },
      "source": [
        "def fisher(net, data_loader):\n",
        "    dataiter = iter(data_loader)\n",
        "    params = {n : p for n, p in net.named_parameters() if p.requires_grad}\n",
        "    fisher_mat = {}\n",
        "    for n, p in deepcopy(params).items():\n",
        "        p.data.zero_()\n",
        "        fisher_mat[n] = p.data\n",
        "\n",
        "    net.eval()\n",
        "    for input, label in dataiter:\n",
        "        if torch.cuda.is_available():\n",
        "            input = input.cuda()\n",
        "            label = label.cuda()\n",
        "\n",
        "        net.zero_grad()\n",
        "        outputs = net(input)\n",
        "        loss = criterion(outputs, label)\n",
        "        loss.backward()\n",
        "\n",
        "        for n, p in net.named_parameters():\n",
        "            fisher_mat[n].data += p.grad.data ** 2 / len(input)\n",
        "\n",
        "    return {n : p for n, p in fisher_mat.items()}"
      ],
      "execution_count": 0,
      "outputs": []
    },
    {
      "cell_type": "markdown",
      "metadata": {
        "id": "tilDKYw6JT8v",
        "colab_type": "text"
      },
      "source": [
        "### Learning Function"
      ]
    },
    {
      "cell_type": "code",
      "metadata": {
        "id": "-dV5puTlos0S",
        "colab_type": "code",
        "colab": {}
      },
      "source": [
        "def Learning_Function(net, optimizer, num_tasks, reg_coef, log_file, learn_mode = 0):\n",
        "    if learn_mode > 2 or learn_mode < 0:\n",
        "        print(\"Learn mode Error\\nplain: 0\\tpenalty with L2 distance: 1\\tpenalty with ewc: 2\")\n",
        "        return False\n",
        "\n",
        "    acc = {}\n",
        "    params_per_tasks = []\n",
        "    fisher_mat = []\n",
        "\n",
        "    log_file.write(\"Task\\tEpoch\\n\")\n",
        "    for task in range(num_tasks):\n",
        "        running_loss = 0.0\n",
        "        \n",
        "        # Train for each task\n",
        "        for epoch in range(num_epochs):\n",
        "            for i, data in enumerate(train_loader[task]):\n",
        "                inputs, labels = data\n",
        "\n",
        "                if torch.cuda.is_available():\n",
        "                    inputs = inputs.cuda()\n",
        "                    labels = labels.cuda()\n",
        "\n",
        "                # gradient initiallize\n",
        "                optimizer.zero_grad()\n",
        "\n",
        "                # Compute forward-propagation\n",
        "                outputs = net(inputs)\n",
        "\n",
        "                # Compute Loss\n",
        "                loss = criterion(outputs, labels)\n",
        "\n",
        "                # Compute Loss & L2 distance\n",
        "                if learn_mode != 0:\n",
        "                    reg = 0\n",
        "                    ind = 0\n",
        "                    for params_past in params_per_tasks:\n",
        "                        for n, p in net.named_parameters():\n",
        "                            penalty = (params_past[n] - p)**2\n",
        "                            # EWC: multiply fisher matrix\n",
        "                            if learn_mode == 2:\n",
        "                                penalty = fisher_mat[ind][n] * penalty#torch.dot(fisher_mat[ind][n], penalty)\n",
        "\n",
        "                            reg += torch.sum(penalty)\n",
        "                        ind += 1\n",
        "                    loss = loss + (reg_coef / 2) * reg\n",
        "\n",
        "                #Do Back-propagation\n",
        "                loss.backward()\n",
        "                #Weight update\n",
        "                optimizer.step()\n",
        "\n",
        "                #cumulate loss\n",
        "                running_loss += loss.data.item()\n",
        "\n",
        "            if epoch % 5 == 4:\n",
        "                log_file.write(\"[%d\\t%d] AVG. loss: %.3f\\n\"% (task+1, epoch + 1, running_loss/(i*5)))\n",
        "                running_loss = 0.0\n",
        "            \n",
        "        # Test for each task after learning a task.\n",
        "        each_task_acc = []\n",
        "        for j in range(task+1):\n",
        "            total = 0\n",
        "            correct = 0\n",
        "            for i, data in enumerate(test_loader[j]):\n",
        "                inputs, labels = data\n",
        "                if torch.cuda.is_available():\n",
        "                    inputs = inputs.cuda()\n",
        "                    labels = labels.cuda()\n",
        "\n",
        "                # forward propagation\n",
        "                outputs = net(inputs)\n",
        "\n",
        "                # torch.max: returns maximum value of a tensor\n",
        "                _, predicted = torch.max(outputs.data, dim=1)\n",
        "                total += labels.size(0)\n",
        "                \n",
        "                # Estimate accuracy of model\n",
        "                correct += (predicted == labels).sum()\n",
        "                                \n",
        "            each_task_acc.append(100 * correct.cpu().numpy() / total)\n",
        "            \n",
        "        each_task_acc = np.asarray(each_task_acc)\n",
        "        #log_file.write(\" \".join(each_task_acc))\n",
        "        log_file.write('Average accuracy after training task %d: %d %%\\n' % (task+1, np.mean(each_task_acc)))\n",
        "        acc[task] = np.mean(each_task_acc)\n",
        "            \n",
        "        # Save parameters to use at next iteration: used to cal. penalty term      \n",
        "        if learn_mode != 0:\n",
        "            tp = {n : p for n, p in net.named_parameters() if p.requires_grad}\n",
        "            params = {}\n",
        "            #for n, p in deepcopy(tp).items():\n",
        "            for n, p in tp.items():\n",
        "                params[n] = p.data.clone()\n",
        "                if torch.cuda.is_available(): # If cuda available, change Tensor to GPU Tensor\n",
        "                    params[n] = params[n].cuda()\n",
        "\n",
        "            params_per_tasks.append(params)\n",
        "\n",
        "            # If learning mode is cont. learnig with ewc: make fisher mat. and save it\n",
        "            if learn_mode == 2:\n",
        "                fisher_mat.append(fisher(net, train_loader[task]))\n",
        "            \n",
        "    return acc"
      ],
      "execution_count": 0,
      "outputs": []
    },
    {
      "cell_type": "markdown",
      "metadata": {
        "id": "dTYvapqh2kzS",
        "colab_type": "text"
      },
      "source": [
        "### Plain SGD"
      ]
    },
    {
      "cell_type": "code",
      "metadata": {
        "id": "fEn6wMQn1eKf",
        "colab_type": "code",
        "colab": {}
      },
      "source": [
        "def Plain_SGD_Learning(learning_rate, num_task):\n",
        "    net = NeuralNet()\n",
        "    if torch.cuda.is_available():\n",
        "        print(\"Use GPU\")\n",
        "        net.cuda()\n",
        "        \n",
        "    optimizer = optim.SGD(net.parameters(), lr=learning_rate)    \n",
        "    return Learning_Function(net, optimizer, num_task, reg_coef=1, learn_mode=0)"
      ],
      "execution_count": 0,
      "outputs": []
    },
    {
      "cell_type": "markdown",
      "metadata": {
        "id": "Xm5QWxH82rRW",
        "colab_type": "text"
      },
      "source": [
        "### Continual Learning with L2 distance"
      ]
    },
    {
      "cell_type": "code",
      "metadata": {
        "id": "3_3l5Jps1hpB",
        "colab_type": "code",
        "colab": {}
      },
      "source": [
        "def L2_Learning(learning_rate, num_task):\n",
        "    learning_acc = {}\n",
        "    reg_coef_list = [300,1000,3000,10000]\n",
        "    for reg_coef in reg_coef_list:\n",
        "        net = NeuralNet()\n",
        "        if torch.cuda.is_available():\n",
        "            print(\"Use GPU\")\n",
        "            net.cuda()\n",
        "            \n",
        "        optimizer = optim.SGD(net.parameters(), lr=learning_rate)    \n",
        "        print(\"Penalty term coefficient: \", reg_coef)\n",
        "        learning_acc[reg_coef] = Continual_Learning(net, optimizer, num_task, reg_coef, learn_mode=2)\n",
        "\n",
        "    return learning_acc"
      ],
      "execution_count": 0,
      "outputs": []
    },
    {
      "cell_type": "markdown",
      "metadata": {
        "id": "kjRo5YUR2wFz",
        "colab_type": "text"
      },
      "source": [
        "### Continual Learning with Elastic Weight Consolidation"
      ]
    },
    {
      "cell_type": "code",
      "metadata": {
        "id": "AM9tCwy31h6Q",
        "colab_type": "code",
        "colab": {}
      },
      "source": [
        "def EWC_Learning(learning_rate, num_task):\n",
        "    dt = datetime.datetime.now()\n",
        "    logfile_name = \"logfile_training_ewc_%d_%d_%d_%d_%d.txt\" % (dt.year, dt.month, dt.day, dt.hour, dt.minute)\n",
        "    learning_acc = {}\n",
        "    #reg_coef_list = [10, 30, 100, 120, 140, 160, 180, 200, 225, 250] #[10 ~ 250] 정도로 lambda 설정\n",
        "    reg_coef_list = [100]\n",
        "    log_file = open(logfile_name, \"w\")\n",
        "    for reg_coef in reg_coef_list:\n",
        "        log_file.write(\"REG Coefficient = %d\\n\"%(reg_coef))\n",
        "        net = NeuralNet()\n",
        "        if torch.cuda.is_available():\n",
        "            print(\"Use GPU\")\n",
        "            net.cuda()\n",
        "            \n",
        "        optimizer = optim.Adam(net.parameters(), lr=learning_rate)    \n",
        "        print(\"Penalty term coefficient: \", reg_coef)\n",
        "        learning_acc[reg_coef] = Learning_Function(net, optimizer, num_task, reg_coef, log_file, learn_mode=2)\n",
        "        log_file.write(\"\\n\")\n",
        "\n",
        "    log_file.close()\n",
        "    return learning_acc"
      ],
      "execution_count": 0,
      "outputs": []
    },
    {
      "cell_type": "code",
      "metadata": {
        "id": "U1oVDzZEqL92",
        "colab_type": "code",
        "outputId": "572d4b03-219d-4c55-cffd-920b0b9e63d8",
        "colab": {
          "base_uri": "https://localhost:8080/",
          "height": 1000
        }
      },
      "source": [
        "SGD_acc = Plain_SGD_Learning(learning_rate, num_task)"
      ],
      "execution_count": 0,
      "outputs": [
        {
          "output_type": "stream",
          "text": [
            "Use GPU\n",
            "Task\tEpoch\n"
          ],
          "name": "stdout"
        },
        {
          "output_type": "stream",
          "text": [
            "/usr/local/lib/python3.6/dist-packages/torchvision/datasets/mnist.py:43: UserWarning: train_labels has been renamed targets\n",
            "  warnings.warn(\"train_labels has been renamed targets\")\n"
          ],
          "name": "stderr"
        },
        {
          "output_type": "stream",
          "text": [
            "[1\t5] AVG. loss: 2.111\n",
            "[1\t10] AVG. loss: 1.069\n",
            "[1\t15] AVG. loss: 0.569\n",
            "[1\t20] AVG. loss: 0.443\n",
            "[89.14]\n",
            "[89.14]\n",
            "Average accuracy after training task 1: 89 %\n"
          ],
          "name": "stdout"
        },
        {
          "output_type": "stream",
          "text": [
            "/usr/local/lib/python3.6/dist-packages/torchvision/datasets/mnist.py:48: UserWarning: test_labels has been renamed targets\n",
            "  warnings.warn(\"test_labels has been renamed targets\")\n"
          ],
          "name": "stderr"
        },
        {
          "output_type": "stream",
          "text": [
            "[2\t5] AVG. loss: 0.786\n",
            "[2\t10] AVG. loss: 0.436\n",
            "[2\t15] AVG. loss: 0.373\n",
            "[2\t20] AVG. loss: 0.340\n",
            "[86.53, 90.9]\n",
            "[86.53 90.9 ]\n",
            "Average accuracy after training task 2: 88 %\n",
            "[3\t5] AVG. loss: 0.643\n",
            "[3\t10] AVG. loss: 0.388\n",
            "[3\t15] AVG. loss: 0.342\n",
            "[3\t20] AVG. loss: 0.314\n",
            "[79.7, 87.65, 91.49]\n",
            "[79.7  87.65 91.49]\n",
            "Average accuracy after training task 3: 86 %\n",
            "[4\t5] AVG. loss: 0.605\n",
            "[4\t10] AVG. loss: 0.369\n",
            "[4\t15] AVG. loss: 0.326\n",
            "[4\t20] AVG. loss: 0.300\n",
            "[77.31, 82.56, 89.13, 91.94]\n",
            "[77.31 82.56 89.13 91.94]\n",
            "Average accuracy after training task 4: 85 %\n",
            "[5\t5] AVG. loss: 0.596\n",
            "[5\t10] AVG. loss: 0.349\n",
            "[5\t15] AVG. loss: 0.306\n",
            "[5\t20] AVG. loss: 0.280\n",
            "[75.08, 76.49, 82.57, 86.03, 92.41]\n",
            "[75.08 76.49 82.57 86.03 92.41]\n",
            "Average accuracy after training task 5: 82 %\n",
            "[6\t5] AVG. loss: 0.574\n",
            "[6\t10] AVG. loss: 0.339\n",
            "[6\t15] AVG. loss: 0.296\n",
            "[6\t20] AVG. loss: 0.269\n",
            "[72.97, 73.89, 77.2, 78.82, 89.23, 92.71]\n",
            "[72.97 73.89 77.2  78.82 89.23 92.71]\n",
            "Average accuracy after training task 6: 80 %\n",
            "[7\t5] AVG. loss: 0.554\n",
            "[7\t10] AVG. loss: 0.329\n",
            "[7\t15] AVG. loss: 0.287\n",
            "[7\t20] AVG. loss: 0.261\n",
            "[69.74, 68.26, 77.07, 78.25, 86.88, 85.07, 92.81]\n",
            "[69.74 68.26 77.07 78.25 86.88 85.07 92.81]\n",
            "Average accuracy after training task 7: 79 %\n",
            "[8\t5] AVG. loss: 0.567\n",
            "[8\t10] AVG. loss: 0.328\n",
            "[8\t15] AVG. loss: 0.285\n",
            "[8\t20] AVG. loss: 0.258\n",
            "[62.94, 64.61, 73.99, 75.52, 79.33, 75.9, 89.17, 93.03]\n",
            "[62.94 64.61 73.99 75.52 79.33 75.9  89.17 93.03]\n",
            "Average accuracy after training task 8: 76 %\n",
            "[9\t5] AVG. loss: 0.563\n",
            "[9\t10] AVG. loss: 0.317\n",
            "[9\t15] AVG. loss: 0.274\n",
            "[9\t20] AVG. loss: 0.247\n",
            "[65.66, 56.86, 60.18, 70.11, 71.81, 74.15, 85.46, 89.73, 93.25]\n",
            "[65.66 56.86 60.18 70.11 71.81 74.15 85.46 89.73 93.25]\n",
            "Average accuracy after training task 9: 74 %\n",
            "[10\t5] AVG. loss: 0.540\n",
            "[10\t10] AVG. loss: 0.307\n",
            "[10\t15] AVG. loss: 0.264\n",
            "[10\t20] AVG. loss: 0.238\n",
            "[58.38, 62.17, 55.93, 65.52, 66.52, 65.17, 82.45, 86.42, 89.43, 93.31]\n",
            "[58.38 62.17 55.93 65.52 66.52 65.17 82.45 86.42 89.43 93.31]\n",
            "Average accuracy after training task 10: 72 %\n"
          ],
          "name": "stdout"
        }
      ]
    },
    {
      "cell_type": "code",
      "metadata": {
        "id": "tnVxh4mi5VPD",
        "colab_type": "code",
        "outputId": "16418d28-7712-46b6-9f93-9abafdbd5bf7",
        "colab": {
          "base_uri": "https://localhost:8080/",
          "height": 295
        }
      },
      "source": [
        "x, y = list(SGD_acc.keys()), list(SGD_acc.values())\n",
        "plt.xlabel(\"# of tasks\")\n",
        "plt.ylabel(\"Avg. acc\")\n",
        "plt.title(\"Average Accuracies: Plain SGD\")\n",
        "plt.plot(x, y)\n",
        "plt.show()"
      ],
      "execution_count": 0,
      "outputs": [
        {
          "output_type": "display_data",
          "data": {
            "image/png": "[encoded data removed]",
            "text/plain": [
              "<Figure size 432x288 with 1 Axes>"
            ]
          },
          "metadata": {
            "tags": []
          }
        }
      ]
    },
    {
      "cell_type": "code",
      "metadata": {
        "id": "Rb-0sgFDbQPe",
        "colab_type": "code",
        "outputId": "f30dffc0-2944-4f02-ecc1-46c0fdbb51a3",
        "colab": {
          "base_uri": "https://localhost:8080/",
          "height": 122
        }
      },
      "source": [
        "EWC_acc = EWC_Learning(learning_rate, num_task)"
      ],
      "execution_count": 20,
      "outputs": [
        {
          "output_type": "stream",
          "text": [
            "Use GPU\n",
            "Penalty term coefficient:  100\n"
          ],
          "name": "stdout"
        },
        {
          "output_type": "stream",
          "text": [
            "/usr/local/lib/python3.6/dist-packages/torchvision/datasets/mnist.py:43: UserWarning: train_labels has been renamed targets\n",
            "  warnings.warn(\"train_labels has been renamed targets\")\n",
            "/usr/local/lib/python3.6/dist-packages/torchvision/datasets/mnist.py:48: UserWarning: test_labels has been renamed targets\n",
            "  warnings.warn(\"test_labels has been renamed targets\")\n"
          ],
          "name": "stderr"
        }
      ]
    },
    {
      "cell_type": "code",
      "metadata": {
        "id": "QWeAfeME6t8y",
        "colab_type": "code",
        "outputId": "fc901160-ea83-4804-ca6f-c29d28c71ab6",
        "colab": {
          "base_uri": "https://localhost:8080/",
          "height": 295
        }
      },
      "source": [
        "plt.xlabel(\"# of tasks\")\n",
        "plt.ylabel(\"Avg. acc\")\n",
        "plt.title(\"Average Accuracies w.r.t. regularization rates: EWC\")\n",
        "\n",
        "for coef, acc_dict in EWC_acc.items():\n",
        "    x, y = list(acc_dict.keys()), list(acc_dict.values())\n",
        "    plt.plot(x, y, label=str(coef))\n",
        "\n",
        "plt.legend(loc=3)\n",
        "plt.show()"
      ],
      "execution_count": 0,
      "outputs": [
        {
          "output_type": "display_data",
          "data": {
            "image/png": "[encoded data removed]",
            "text/plain": [
              "<Figure size 432x288 with 1 Axes>"
            ]
          },
          "metadata": {
            "tags": []
          }
        }
      ]
    },
    {
      "cell_type": "markdown",
      "metadata": {
        "id": "88VoLKldFHBG",
        "colab_type": "text"
      },
      "source": [
        "## 더 해야할 것들\n",
        "1. 결과 로그남기기\n",
        "2. RADAR Data plain sgd로 돌려보기 (90% 이상 나와야 된다고 함)\n",
        "3. 논문\n",
        "...\n"
      ]
    },
    {
      "cell_type": "code",
      "metadata": {
        "id": "9B3PHEy6FUdd",
        "colab_type": "code",
        "colab": {}
      },
      "source": [
        ""
      ],
      "execution_count": 0,
      "outputs": []
    }
  ]
}