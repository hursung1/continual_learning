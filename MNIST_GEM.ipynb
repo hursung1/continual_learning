{
  "nbformat": 4,
  "nbformat_minor": 0,
  "metadata": {
    "colab": {
      "name": "MNIST_GEM.ipynb",
      "provenance": [],
      "collapsed_sections": []
    },
    "kernelspec": {
      "name": "python3",
      "display_name": "Python 3"
    },
    "accelerator": "GPU"
  },
  "cells": [
    {
      "cell_type": "markdown",
      "metadata": {
        "id": "eosC0fERt6DY",
        "colab_type": "text"
      },
      "source": [
        "# Gradient Episodic Memory"
      ]
    },
    {
      "cell_type": "code",
      "metadata": {
        "id": "2uLpHMYD4iT-",
        "colab_type": "code",
        "colab": {}
      },
      "source": [
        "!pip install quadprog\n",
        "import numpy as np\n",
        "import matplotlib.pyplot as plt\n",
        "import quadprog\n",
        "from copy import deepcopy \n",
        "\n",
        "import torch\n",
        "import torch.nn as nn\n",
        "import torch.nn.functional as F\n",
        "import torch.optim as optim\n",
        "from torch.autograd import Variable\n",
        "import torchvision\n",
        "import torchvision.transforms as transforms"
      ],
      "execution_count": 0,
      "outputs": []
    },
    {
      "cell_type": "markdown",
      "metadata": {
        "id": "m0NTE-5OtXG-",
        "colab_type": "text"
      },
      "source": [
        "### Define P-MNIST data loader"
      ]
    },
    {
      "cell_type": "code",
      "metadata": {
        "id": "ZlE3KQNSstue",
        "colab_type": "code",
        "colab": {}
      },
      "source": [
        "class PermutedMNISTDataLoader(torchvision.datasets.MNIST):\n",
        "    \n",
        "    def __init__(self, source='./drive/My Drive/projects/cont_learn/mnist_data', train = True, shuffle_seed = None):\n",
        "        super(PermutedMNISTDataLoader, self).__init__(source, train, download=True)\n",
        "        \n",
        "        self.train = train\n",
        "        if self.train:\n",
        "            self.permuted_train_data = torch.stack(\n",
        "                [img.type(dtype=torch.float32).view(-1)[shuffle_seed] / 255.0\n",
        "                    for img in self.train_data])\n",
        "        else:\n",
        "            self.permuted_test_data = torch.stack(\n",
        "                [img.type(dtype=torch.float32).view(-1)[shuffle_seed] / 255.0\n",
        "                    for img in self.test_data])\n",
        "            \n",
        "    def __getitem__(self, index):\n",
        "        \n",
        "        if self.train:\n",
        "            input, label = self.permuted_train_data[index], self.train_labels[index]\n",
        "        else:\n",
        "            input, label = self.permuted_test_data[index], self.test_labels[index]\n",
        "        \n",
        "        return input, label\n",
        "\n",
        "    def sample(self, size):\n",
        "        return [img for img in self.permuted_train_data[random.sample(range(len(self), size))]]\n",
        "    "
      ],
      "execution_count": 0,
      "outputs": []
    },
    {
      "cell_type": "markdown",
      "metadata": {
        "id": "iqgMTMVctR4K",
        "colab_type": "text"
      },
      "source": [
        "### Set hyperparameters & get permuted MNIST"
      ]
    },
    {
      "cell_type": "code",
      "metadata": {
        "id": "M5l-BVows2rQ",
        "colab_type": "code",
        "colab": {}
      },
      "source": [
        "batch_size = 64\n",
        "learning_rate = 1e-3\n",
        "num_task = 10\n",
        "num_epochs = 20\n",
        "sample_size = 100\n",
        "\n",
        "criterion = nn.CrossEntropyLoss()\n",
        "\n",
        "def permute_mnist():\n",
        "    train_loader = {}\n",
        "    test_loader = {}\n",
        "    \n",
        "    for i in range(num_task):\n",
        "        shuffle_seed = np.arange(28*28)\n",
        "        np.random.shuffle(shuffle_seed)\n",
        "        train_loader[i] = torch.utils.data.DataLoader(\n",
        "            PermutedMNISTDataLoader(train=True, shuffle_seed=shuffle_seed),\n",
        "                batch_size=batch_size)\n",
        "        \n",
        "        test_loader[i] = torch.utils.data.DataLoader(\n",
        "            PermutedMNISTDataLoader(train=False, shuffle_seed=shuffle_seed),\n",
        "                batch_size=batch_size)\n",
        "    \n",
        "    return train_loader, test_loader\n",
        "\n",
        "train_loader, test_loader = permute_mnist()"
      ],
      "execution_count": 0,
      "outputs": []
    },
    {
      "cell_type": "markdown",
      "metadata": {
        "id": "xxLFhyw9tPn6",
        "colab_type": "text"
      },
      "source": [
        "### Define Neural Net"
      ]
    },
    {
      "cell_type": "code",
      "metadata": {
        "id": "5xq7gI87s7-m",
        "colab_type": "code",
        "colab": {}
      },
      "source": [
        "class NeuralNet(nn.Module):\n",
        "    def __init__(self):\n",
        "        # Always start with inheriting torch.nn.Module\n",
        "        # Ancestor class of all Neural Net module\n",
        "        super(NeuralNet, self).__init__()\n",
        "        # Linear: linear transformation\n",
        "        fc1 = nn.Linear(28*28, 100)\n",
        "        fc2 = nn.Linear(100, 10)\n",
        "  \n",
        "        \n",
        "        self.fc_module = nn.Sequential(\n",
        "            fc1,\n",
        "            nn.ReLU(),\n",
        "            fc2\n",
        "        )\n",
        "        \n",
        "        if torch.cuda.is_available():\n",
        "            self.fc_module = self.fc_module.cuda()\n",
        "\n",
        "    def forward(self, x):\n",
        "        return self.fc_module(x)"
      ],
      "execution_count": 0,
      "outputs": []
    },
    {
      "cell_type": "markdown",
      "metadata": {
        "id": "XTLGo0vrtgIo",
        "colab_type": "text"
      },
      "source": [
        "### GEM Learning Function"
      ]
    },
    {
      "cell_type": "code",
      "metadata": {
        "id": "KLk4RneiWF-o",
        "colab_type": "code",
        "colab": {}
      },
      "source": [
        "def gem_eval(continuum):\n",
        "    r = torch.tensor(np.zeros((t, )))\n",
        "    for k in range(t):\n",
        "        r_k = 0\n",
        "        for i, data in enumerate(continuum):\n",
        "            r_k += accuracy()\n",
        "\n",
        "        r_k /= len(continuum[k])\n",
        "\n",
        "    return r"
      ],
      "execution_count": 0,
      "outputs": []
    },
    {
      "cell_type": "code",
      "metadata": {
        "id": "M_QokL2a8qy9",
        "colab_type": "code",
        "colab": {}
      },
      "source": [
        "def gem_train(net, optimizer, num_tasks, log_file):\n",
        "    ep_mem = {}\n",
        "    R = torch.tensor(np.zeros((t, t)))\n",
        "    for t in Tasks:\n",
        "        for x, y in Contimuum_train(t):\n",
        "            M_t.append(x, y)\n",
        "            g = gradient(Loss(f(x, t), y))\n",
        "            for k in t:\n",
        "                g_k = gradient(Loss(f, M_k))\n",
        "            g_tilda = Project(g, g_1, g_2, ... , g_k)\n",
        "            theta -= alpha*g_tilda\n",
        "\n",
        "        R_t = gem_eval(f, Continuum_test)\n",
        "\n",
        "    return f, R"
      ],
      "execution_count": 0,
      "outputs": []
    },
    {
      "cell_type": "code",
      "metadata": {
        "id": "PrFE4JZMuUYk",
        "colab_type": "code",
        "colab": {}
      },
      "source": [
        "class GEMLearning():\n",
        "    def __init__(self, **kwargs):\n",
        "        self.net = kwargs['net']\n",
        "        self.optim = kwargs['optim']\n",
        "        self.num_tasks = kwargs['num_tasks']\n",
        "        self.log_file = open(kwargs['logfile_name'], \"w\")\n",
        "\n",
        "        self.mem_size = kwargs['mem_size']\n",
        "        self.num_input = kwargs['num_input']\n",
        "\n",
        "        # Episodic Memory\n",
        "        self.ep_mem = torch.FloatTensor(self.num_tasks, self.mem_size, self.num_input)\n",
        "        self.labels = torch.IntTensor(self.num_tasks, self.mem_size)\n",
        "        if torch.cuda.is_available():\n",
        "            self.ep_mem = self.ep_mem.cuda()\n",
        "            self.labels = self.labels.cuda()\n",
        "\n",
        "        # Matrix for storing accuracy\n",
        "        self.R = torch.FloatTensor(self.num_tasks, self.num_tasks)\n",
        "        if torch.cuda.is_available():\n",
        "            self.R = self.R.cuda()\n",
        "\n",
        "        # Matrix for storing gradient for each memory\n",
        "        self.g_mem = None\n",
        "\n",
        "    # Do traning procedure one-by-ome\n",
        "    def train(self, continuum):\n",
        "        x, t, y = continuum\n",
        "        self.optim.zero_grad()\n",
        "\n",
        "        pred = self.net(x)\n",
        "        loss = criterion(pred, y)\n",
        "        loss.backward()\n",
        "        grad = \n",
        "        for param in self.net.parameters():\n",
        "            grad = torch.stack((grad, param.grad))\n",
        "\n",
        "\n",
        "        G = None\n",
        "\n",
        "        # Calculate all g_k's\n",
        "        for i in range(0, t):\n",
        "            pred_ = self.net(self.ep_mem[i])\n",
        "            label_ = self.labels[i]\n",
        "            loss_ = criterion(pred_, label_)\n",
        "\n",
        "            loss_ = torch.sum(loss_) / self.mem_size\n",
        "            if G is None:\n",
        "                G = loss_\n",
        "            else:\n",
        "                G = torch.stack((G, loss_))\n",
        "\n",
        "        g_tilda = self.projection(loss, G)\n",
        "        # copy g_tilda to parameter's gradient\n",
        "        pass\n",
        "\n",
        "        # Update weights\n",
        "        self.optim.step()\n",
        "        \n",
        "    def eval(self, continuum):\n",
        "        pass\n",
        "\n",
        "    def projection(self):\n",
        "        pass\n",
        "\n",
        "    def grad_mem_store(self):\n",
        "        if self.g_mem is None:\n",
        "            \n",
        "            pass\n",
        "        else:\n",
        "            pass"
      ],
      "execution_count": 0,
      "outputs": []
    },
    {
      "cell_type": "markdown",
      "metadata": {
        "id": "ukUD3JrixCiK",
        "colab_type": "text"
      },
      "source": [
        "### Continual Learnig with GEM"
      ]
    },
    {
      "cell_type": "code",
      "metadata": {
        "id": "Z0kcpGclwi6_",
        "colab_type": "code",
        "colab": {}
      },
      "source": [
        "net = NeuralNet()\n",
        "optim = optim.SGD(net.parameters(), lr=learning_rate)\n",
        "logfile_name = \"logfile_training_gem_%d_%d_%d_%d_%d.txt\" % (dt.year, dt.month, dt.day, dt.hour, dt.minute)\n",
        "\n",
        "gem = GEMLearning(net, optim, num_tasks, )"
      ],
      "execution_count": 0,
      "outputs": []
    }
  ]
}