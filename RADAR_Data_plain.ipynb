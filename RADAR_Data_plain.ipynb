{
 "cells": [
  {
   "cell_type": "code",
   "execution_count": 1,
   "metadata": {
    "colab": {},
    "colab_type": "code",
    "id": "WVcsTxSUzrHm"
   },
   "outputs": [],
   "source": [
    "import datetime\n",
    "import os\n",
    "import numpy as np\n",
    "import matplotlib.pyplot as plt\n",
    "from PIL import Image\n",
    "import torch\n",
    "import torchvision\n",
    "import torchvision.transforms as transforms\n",
    "from itertools import cycle\n",
    "\n",
    "\n",
    "import pyfiles.models as models\n",
    "import pyfiles.lib as lib"
   ]
  },
  {
   "cell_type": "code",
   "execution_count": 3,
   "metadata": {
    "colab": {
     "base_uri": "https://localhost:8080/",
     "height": 34
    },
    "colab_type": "code",
    "id": "OZj8GcYqCCk8",
    "outputId": "bdbc6634-b63b-40cc-d3c7-a177c853fe38"
   },
   "outputs": [],
   "source": [
    "tasks = 12\n",
    "epochs = 100\n",
    "learning_rate = 1e-3\n",
    "batch_size = 64\n",
    "on_colab = False\n",
    "divide_tasks = True\n",
    "\n",
    "category={0: 'boxingmoving', \n",
    "          1: 'boxingstill', \n",
    "          2: 'crawling', \n",
    "          3: 'running', \n",
    "          4: 'still', \n",
    "          5: 'walking', \n",
    "          6: 'walkinglow'}\n",
    "\n",
    "cuda_available = False\n",
    "if torch.cuda.is_available():\n",
    "    cuda_available = True\n",
    "\n",
    "dt = datetime.datetime.now()"
   ]
  },
  {
   "cell_type": "markdown",
   "metadata": {
    "colab_type": "text",
    "id": "zpUUFFhoUlMJ"
   },
   "source": [
    "### Get data"
   ]
  },
  {
   "cell_type": "code",
   "execution_count": 4,
   "metadata": {
    "colab": {
     "base_uri": "https://localhost:8080/",
     "height": 310
    },
    "colab_type": "code",
    "id": "ZTSQX1mHCLnl",
    "outputId": "bef60efe-469d-42f7-de9a-8d8fce63ffbd"
   },
   "outputs": [
    {
     "name": "stdout",
     "output_type": "stream",
     "text": [
      "torch.Size([12, 7, 9, 128, 128])\n",
      "torch.Size([12, 7, 3, 128, 128])\n",
      "torch.Size([7, 9])\n",
      "torch.Size([7, 3])\n"
     ]
    }
   ],
   "source": [
    "### Data: (# of subject, # of classes, # of data, width, height)\n",
    "if divide_tasks:\n",
    "    train_data = []\n",
    "    test_data = []\n",
    "\n",
    "    for task in range(1, tasks+1):\n",
    "        if on_colab:\n",
    "            data_path = 'drive/My Drive/projects/data/RADAR/Subject%d'%(task)\n",
    "        else:\n",
    "            data_path = './data/RADAR/Subject%d'%(task)\n",
    "\n",
    "        train_data_per_task = []\n",
    "        test_data_per_task = []\n",
    "        for _, cat in category.items():\n",
    "            # train data\n",
    "            train_data_per_cat = []\n",
    "            test_data_per_cat = []\n",
    "\n",
    "            for i in range(1, 10):\n",
    "                filename = 'Human_Spect_test%d_%s_0%d.png'%(task, cat, i)\n",
    "                file_path = os.path.join(data_path, 'train', cat, filename)\n",
    "                img = Image.open(file_path)\n",
    "                img.load()\n",
    "                img = np.array(img)\n",
    "                train_data_per_cat.append(img)\n",
    "\n",
    "            # test data\n",
    "            for i in range(10, 13):\n",
    "                filename = 'Human_Spect_test%d_%s_%d.png'%(task, cat, i)\n",
    "                file_path = os.path.join(data_path, 'test', cat, filename)\n",
    "                img = Image.open(file_path)\n",
    "                img.load()\n",
    "                img = np.array(img)\n",
    "                test_data_per_cat.append(img)\n",
    "\n",
    "            \n",
    "            train_data_per_task.append(train_data_per_cat)\n",
    "            test_data_per_task.append(test_data_per_cat)\n",
    "            \n",
    "        train_data.append(train_data_per_task)\n",
    "        test_data.append(test_data_per_task)\n",
    "        \n",
    "\n",
    "    train_data = torch.Tensor(train_data)\n",
    "    test_data = torch.Tensor(test_data)\n",
    "\n",
    "    if cuda_available:\n",
    "        train_data = train_data.cuda()\n",
    "        test_data = test_data.cuda()\n",
    "\n",
    "    print(train_data.shape)\n",
    "    print(test_data.shape)\n",
    "\n",
    "    train_labels = np.zeros((9, ))\n",
    "    test_labels = np.zeros((3, ))\n",
    "\n",
    "    for i in range(1, 7):\n",
    "        train_labels = np.vstack((train_labels, np.zeros((9, )) + i))\n",
    "        test_labels = np.vstack((test_labels, np.zeros((3, )) + i))\n",
    "\n",
    "    train_labels = torch.Tensor(train_labels).type(torch.LongTensor)\n",
    "    test_labels = torch.Tensor(test_labels).type(torch.LongTensor)\n",
    "\n",
    "    if cuda_available:\n",
    "        train_labels = train_labels.cuda()\n",
    "        test_labels = test_labels.cuda()\n",
    "\n",
    "    print(train_labels.shape)\n",
    "    print(test_labels.shape)"
   ]
  },
  {
   "cell_type": "code",
   "execution_count": 4,
   "metadata": {
    "colab": {},
    "colab_type": "code",
    "id": "ExSwX8psD3eH"
   },
   "outputs": [
    {
     "name": "stdout",
     "output_type": "stream",
     "text": [
      "torch.Size([7, 108, 128, 128])\n",
      "torch.Size([7, 36, 128, 128])\n",
      "torch.Size([7, 108])\n",
      "torch.Size([7, 36])\n"
     ]
    }
   ],
   "source": [
    "if not divide_tasks:\n",
    "    train_data = torch.empty((7, 108, 128, 128))\n",
    "    test_data = torch.empty((7, 36, 128, 128))\n",
    "\n",
    "    for task in range(1, tasks+1):\n",
    "        if on_colab:\n",
    "            data_path = 'drive/My Drive/projects/data/RADAR/Subject%d'%(task)\n",
    "        else:\n",
    "            data_path = './data/RADAR/Subject%d'%(task)\n",
    "\n",
    "        for cat_i, cat in category.items():\n",
    "            # train data\n",
    "            for i in range(1, 10):\n",
    "                filename = 'Human_Spect_test%d_%s_0%d.png'%(task, cat, i)\n",
    "                file_path = os.path.join(data_path, 'train', cat, filename)\n",
    "                img = Image.open(file_path)\n",
    "                img.load()\n",
    "                img = np.array(img)\n",
    "                train_data[cat_i, (task - 1) * 9 + (i - 1)] = torch.Tensor(img)\n",
    "\n",
    "            # test data\n",
    "            for i in range(10, 13):\n",
    "                filename = 'Human_Spect_test%d_%s_%d.png'%(task, cat, i)\n",
    "                file_path = os.path.join(data_path, 'test', cat, filename)\n",
    "                img = Image.open(file_path)\n",
    "                img.load()\n",
    "                img = np.array(img)\n",
    "                test_data[cat_i, (task - 1) * 3 + (i - 10)] = torch.tensor(img)\n",
    "\n",
    "    if cuda_available:\n",
    "        train_data = train_data.cuda()\n",
    "        test_data = test_data.cuda()\n",
    "\n",
    "    print(train_data.shape)\n",
    "    print(test_data.shape)\n",
    "    \n",
    "    train_labels = np.zeros((9*12, ))\n",
    "    test_labels = np.zeros((3*12, ))\n",
    "\n",
    "    for i in range(1, 7):\n",
    "        train_labels = np.vstack((train_labels, np.zeros((9*12, )) + i))\n",
    "        test_labels = np.vstack((test_labels, np.zeros((3*12, )) + i))\n",
    "\n",
    "    train_labels = torch.Tensor(train_labels).type(torch.LongTensor)\n",
    "    test_labels = torch.Tensor(test_labels).type(torch.LongTensor)\n",
    "\n",
    "    if cuda_available:\n",
    "        train_labels = train_labels.cuda()\n",
    "        test_labels = test_labels.cuda()\n",
    "\n",
    "    print(train_labels.shape)\n",
    "    print(test_labels.shape)"
   ]
  },
  {
   "cell_type": "code",
   "execution_count": 5,
   "metadata": {},
   "outputs": [],
   "source": [
    "class NeuralNet(torch.nn.Module):\n",
    "    def __init__(self):\n",
    "        super(NeuralNet, self).__init__()\n",
    "        self.conv_module = torch.nn.Sequential(\n",
    "            torch.nn.Conv2d(1, 6, 5, 1), # 6 @ 124*124\n",
    "            torch.nn.ReLU(),\n",
    "            torch.nn.MaxPool2d(2), # 6 @ 62*62\n",
    "            torch.nn.Conv2d(6, 16, 7, 1), # 16 @ 56*56\n",
    "            torch.nn.ReLU(),\n",
    "            torch.nn.MaxPool2d(2), # 16 @ 28*28\n",
    "            # Conv 추가\n",
    "            torch.nn.Conv2d(16, 16, 5, 1), # 16 @ 24*24\n",
    "            torch.nn.ReLU(),\n",
    "            torch.nn.MaxPool2d(2) # 16 @ 12*12\n",
    "        )\n",
    "\n",
    "        self.fc_module = torch.nn.Sequential(\n",
    "            torch.nn.Linear(16*12*12, 128),\n",
    "            torch.nn.ReLU(),\n",
    "            #Linear 빼고\n",
    "            #dropout 추가\n",
    "            torch.nn.Dropout(p=0.3),\n",
    "            torch.nn.Linear(128, 7)\n",
    "        )\n",
    "\n",
    "        if torch.cuda.is_available():\n",
    "            self.conv_module = self.conv_module.cuda()\n",
    "            self.fc_module = self.fc_module.cuda()\n",
    "\n",
    "    def forward(self, input):\n",
    "        x = self.conv_module(input)\n",
    "        dim = x.shape[1] * x.shape[2] * x.shape[3]\n",
    "        x = x.view(-1, dim)\n",
    "        return self.fc_module(x)"
   ]
  },
  {
   "cell_type": "markdown",
   "metadata": {
    "colab_type": "text",
    "id": "1igJtxnxi0QE"
   },
   "source": [
    "### Training & Validation"
   ]
  },
  {
   "cell_type": "code",
   "execution_count": 6,
   "metadata": {},
   "outputs": [
    {
     "name": "stdout",
     "output_type": "stream",
     "text": [
      "torch.Size([12, 7, 9, 128, 128])\n",
      "torch.Size([7, 9])\n"
     ]
    }
   ],
   "source": [
    "print(train_data.shape)\n",
    "print(train_labels.shape)"
   ]
  },
  {
   "cell_type": "code",
   "execution_count": 7,
   "metadata": {
    "colab": {},
    "colab_type": "code",
    "id": "nvhvOVdcirjz"
   },
   "outputs": [
    {
     "ename": "ValueError",
     "evalue": "too many values to unpack (expected 4)",
     "output_type": "error",
     "traceback": [
      "\u001b[0;31m---------------------------------------------------------------------------\u001b[0m",
      "\u001b[0;31mValueError\u001b[0m                                Traceback (most recent call last)",
      "\u001b[0;32m<ipython-input-7-c6bc68916590>\u001b[0m in \u001b[0;36m<module>\u001b[0;34m\u001b[0m\n\u001b[1;32m     13\u001b[0m \u001b[0;34m\u001b[0m\u001b[0m\n\u001b[1;32m     14\u001b[0m \u001b[0mnet\u001b[0m\u001b[0;34m.\u001b[0m\u001b[0mtrain\u001b[0m\u001b[0;34m(\u001b[0m\u001b[0;34m)\u001b[0m\u001b[0;34m\u001b[0m\u001b[0;34m\u001b[0m\u001b[0m\n\u001b[0;32m---> 15\u001b[0;31m \u001b[0mnum_class\u001b[0m\u001b[0;34m,\u001b[0m \u001b[0mnum_data\u001b[0m\u001b[0;34m,\u001b[0m \u001b[0m_\u001b[0m\u001b[0;34m,\u001b[0m \u001b[0m__\u001b[0m \u001b[0;34m=\u001b[0m \u001b[0mtrain_data\u001b[0m\u001b[0;34m.\u001b[0m\u001b[0mshape\u001b[0m\u001b[0;34m\u001b[0m\u001b[0;34m\u001b[0m\u001b[0m\n\u001b[0m\u001b[1;32m     16\u001b[0m \u001b[0;32mfor\u001b[0m \u001b[0mi\u001b[0m \u001b[0;32min\u001b[0m \u001b[0mrange\u001b[0m\u001b[0;34m(\u001b[0m\u001b[0;36m5\u001b[0m\u001b[0;34m)\u001b[0m\u001b[0;34m:\u001b[0m\u001b[0;34m\u001b[0m\u001b[0;34m\u001b[0m\u001b[0m\n\u001b[1;32m     17\u001b[0m     \u001b[0;32mfor\u001b[0m \u001b[0mepoch\u001b[0m \u001b[0;32min\u001b[0m \u001b[0mrange\u001b[0m\u001b[0;34m(\u001b[0m\u001b[0mepochs\u001b[0m\u001b[0;34m)\u001b[0m\u001b[0;34m:\u001b[0m\u001b[0;34m\u001b[0m\u001b[0;34m\u001b[0m\u001b[0m\n",
      "\u001b[0;31mValueError\u001b[0m: too many values to unpack (expected 4)"
     ]
    }
   ],
   "source": [
    "net = NeuralNet()\n",
    "if cuda_available:\n",
    "    net = net.cuda()\n",
    "\n",
    "optimizer = torch.optim.Adam(net.parameters(), lr=learning_rate)\n",
    "criterion = torch.nn.CrossEntropyLoss()\n",
    "\n",
    "logfile_name = \"logfile_training_%d_%d_%d_%d_%d.txt\" % (dt.year, dt.month, dt.day, dt.hour, dt.minute)\n",
    "log_file = open(logfile_name, \"w\")\n",
    "\n",
    "running_loss = 0\n",
    "avg_acc = {}\n",
    "\n",
    "net.train()\n",
    "num_class, num_data, _, __ = train_data.shape\n",
    "for i in range(5):\n",
    "    for epoch in range(epochs):\n",
    "    #     for key, _ in category.items():\n",
    "        seed = torch.randperm(num_class * num_data)\n",
    "        _train_data = train_data.view(-1, 1, 128, 128)[seed]\n",
    "        _train_label = train_labels.view(-1)[seed]\n",
    "\n",
    "        net.zero_grad()\n",
    "        optimizer.zero_grad()\n",
    "\n",
    "        outputs = net(_train_data)\n",
    "        loss = criterion(outputs, _train_label)\n",
    "\n",
    "        loss.backward()\n",
    "        optimizer.step()\n",
    "\n",
    "        running_loss += loss.data.item()\n",
    "\n",
    "        if epoch % 50 == 49:\n",
    "            msg = 'Epoch: %d, AVG. loss: %.3f\\n'% (epoch + 1, running_loss)\n",
    "            print(msg)\n",
    "            log_file.write(msg)\n",
    "            running_loss = 0\n",
    "\n",
    "    total = 0\n",
    "    correct = 0\n",
    "    net.eval()\n",
    "    for key, _ in category.items():\n",
    "        _test_data = test_data[key].view(3*12, 1, 128, 128)\n",
    "        output = net(_test_data)\n",
    "        _, predicted = torch.max(output.data, dim=1)\n",
    "        total += test_labels[key].shape[0]\n",
    "        correct += (predicted == test_labels[key]).sum()\n",
    "\n",
    "    acc = correct.cpu().numpy()*100/total\n",
    "    msg = 'Average accuracy %d %%\\n' % (acc)\n",
    "    print(msg)\n",
    "    log_file.write(msg)\n",
    "log_file.close()"
   ]
  },
  {
   "cell_type": "code",
   "execution_count": 16,
   "metadata": {},
   "outputs": [
    {
     "name": "stdout",
     "output_type": "stream",
     "text": [
      "[Epoch 50/200] Loss: 0.302\n",
      "[Epoch 100/200] Loss: 0.028\n",
      "[Epoch 150/200] Loss: 0.013\n",
      "[Epoch 200/200] Loss: 0.013\n",
      "[Task 1] avg accuracy: 85.714%\n",
      "tensor([85.7143], device='cuda:0')\n",
      "[Epoch 50/200] Loss: 0.010\n",
      "[Epoch 100/200] Loss: 0.002\n",
      "[Epoch 150/200] Loss: 0.000\n",
      "[Epoch 200/200] Loss: 0.001\n",
      "[Task 2] avg accuracy: 66.667%\n",
      "tensor([66.6667, 66.6667], device='cuda:0')\n",
      "[Epoch 50/200] Loss: 0.054\n",
      "[Epoch 100/200] Loss: 0.020\n",
      "[Epoch 150/200] Loss: 0.003\n",
      "[Epoch 200/200] Loss: 0.003\n",
      "[Task 3] avg accuracy: 77.778%\n",
      "tensor([ 57.1429,  76.1905, 100.0000], device='cuda:0')\n",
      "[Epoch 50/200] Loss: 0.005\n",
      "[Epoch 100/200] Loss: 0.004\n",
      "[Epoch 150/200] Loss: 0.002\n",
      "[Epoch 200/200] Loss: 0.000\n",
      "[Task 4] avg accuracy: 79.762%\n",
      "tensor([ 52.3810,  71.4286,  95.2381, 100.0000], device='cuda:0')\n",
      "[Epoch 50/200] Loss: 0.057\n",
      "[Epoch 100/200] Loss: 0.003\n",
      "[Epoch 150/200] Loss: 0.005\n",
      "[Epoch 200/200] Loss: 0.004\n",
      "[Task 5] avg accuracy: 82.857%\n",
      "tensor([76.1905, 85.7143, 71.4286, 85.7143, 95.2381], device='cuda:0')\n",
      "[Epoch 50/200] Loss: 0.086\n",
      "[Epoch 100/200] Loss: 0.003\n",
      "[Epoch 150/200] Loss: 0.004\n",
      "[Epoch 200/200] Loss: 0.002\n",
      "[Task 6] avg accuracy: 69.048%\n",
      "tensor([76.1905, 57.1429, 66.6667, 66.6667, 66.6667, 80.9524], device='cuda:0')\n",
      "[Epoch 50/200] Loss: 0.031\n",
      "[Epoch 100/200] Loss: 0.000\n",
      "[Epoch 150/200] Loss: 0.009\n",
      "[Epoch 200/200] Loss: 0.002\n",
      "[Task 7] avg accuracy: 80.272%\n",
      "tensor([ 80.9524,  61.9048,  71.4286,  76.1905,  85.7143,  85.7143, 100.0000],\n",
      "       device='cuda:0')\n",
      "[Epoch 50/200] Loss: 0.003\n",
      "[Epoch 100/200] Loss: 0.001\n",
      "[Epoch 150/200] Loss: 0.005\n",
      "[Epoch 200/200] Loss: 0.000\n",
      "[Task 8] avg accuracy: 79.167%\n",
      "tensor([ 66.6667,  76.1905,  71.4286,  80.9524,  95.2381,  61.9048,  80.9524,\n",
      "        100.0000], device='cuda:0')\n",
      "[Epoch 50/200] Loss: 0.029\n",
      "[Epoch 100/200] Loss: 0.009\n",
      "[Epoch 150/200] Loss: 0.004\n",
      "[Epoch 200/200] Loss: 0.016\n",
      "[Task 9] avg accuracy: 62.434%\n",
      "tensor([ 47.6190,  57.1429,  57.1429,  57.1429,  71.4286,  38.0952,  47.6190,\n",
      "         85.7143, 100.0000], device='cuda:0')\n",
      "[Epoch 50/200] Loss: 0.003\n",
      "[Epoch 100/200] Loss: 0.001\n",
      "[Epoch 150/200] Loss: 0.000\n",
      "[Epoch 200/200] Loss: 0.001\n",
      "[Task 10] avg accuracy: 66.190%\n",
      "tensor([57.1429, 61.9048, 66.6667, 61.9048, 66.6667, 47.6190, 80.9524, 76.1905,\n",
      "        47.6190, 95.2381], device='cuda:0')\n",
      "[Epoch 50/200] Loss: 0.005\n",
      "[Epoch 100/200] Loss: 0.002\n",
      "[Epoch 150/200] Loss: 0.002\n",
      "[Epoch 200/200] Loss: 0.000\n",
      "[Task 11] avg accuracy: 70.996%\n",
      "tensor([ 61.9048,  52.3810,  71.4286,  71.4286,  71.4286,  76.1905,  61.9048,\n",
      "         71.4286,  61.9048,  80.9524, 100.0000], device='cuda:0')\n",
      "[Epoch 50/200] Loss: 0.004\n",
      "[Epoch 100/200] Loss: 0.000\n",
      "[Epoch 150/200] Loss: 0.000\n",
      "[Epoch 200/200] Loss: 0.000\n",
      "[Task 12] avg accuracy: 64.683%\n",
      "tensor([ 52.3810,  52.3810,  76.1905,  61.9048,  47.6190,  66.6667,  47.6190,\n",
      "         61.9048,  42.8571,  80.9524,  85.7143, 100.0000], device='cuda:0')\n"
     ]
    }
   ],
   "source": [
    "hidden_layer_num = 1000\n",
    "epochs = 200\n",
    "ewc_acc = {}\n",
    "device = torch.device('cuda:0' if torch.cuda.is_available() else 'cpu')\n",
    "net = models.ConvolutionNetwork().to(device)\n",
    "lib.init_params(net)\n",
    "crit = torch.nn.CrossEntropyLoss()\n",
    "\n",
    "optim = torch.optim.Adam(net.parameters(), lr=0.001)\n",
    "\n",
    "for task in range(tasks):\n",
    "    net.train()\n",
    "    for epoch in range(epochs):\n",
    "        running_loss = 0.0\n",
    "        x = train_data[task].view(-1, 1, 128, 128)\n",
    "#         x = train_data[task].view(-1, 128*128)\n",
    "        seed = torch.randperm(x.shape[0])\n",
    "        x = x[seed]\n",
    "        y = train_labels.view(-1)[seed]\n",
    "#             print(x.shape, y.shape)\n",
    "\n",
    "        optim.zero_grad()\n",
    "        net.zero_grad()\n",
    "        outputs = net(x)\n",
    "        loss = crit(outputs, y)\n",
    "        loss.backward()\n",
    "        optim.step()\n",
    "        running_loss += loss.item()\n",
    "\n",
    "        if epoch % 50 == 49:\n",
    "            print(\"[Epoch %d/%d] Loss: %.3f\"%(epoch+1, epochs, running_loss))\n",
    "\n",
    "    ## Evaluation\n",
    "    each_task_acc = torch.zeros((task+1, )).to(device)\n",
    "\n",
    "    net.eval()\n",
    "    for t in range(task+1):\n",
    "        total = 0.0\n",
    "        correct = 0.0\n",
    "        x = test_data[t].view(-1, 1, 128, 128)\n",
    "#         x = test_data[t].view(-1, 128 * 128)\n",
    "        y = test_labels.view(-1)\n",
    "\n",
    "        outputs = net(x)\n",
    "        _, predicted = torch.max(outputs, dim=1)\n",
    "        total += x.shape[0]\n",
    "\n",
    "        correct += (predicted == y).sum()\n",
    "\n",
    "        each_task_acc[t] = (correct / total) * 100\n",
    "\n",
    "    acc_mean = torch.mean(each_task_acc)\n",
    "    print('[Task %d] avg accuracy: %.3f%%'%(task+1, acc_mean))\n",
    "    print(each_task_acc)\n",
    "\n",
    "    ewc_acc[t] = acc_mean\n"
   ]
  },
  {
   "cell_type": "markdown",
   "metadata": {},
   "source": [
    "#### plain data"
   ]
  },
  {
   "cell_type": "code",
   "execution_count": 2,
   "metadata": {},
   "outputs": [],
   "source": [
    "acc_dict={'plain':{0: 85.7143, 1: 66.6667, 2: 77.7778, 3: 79.7619, 4: 82.8571, 5: 69.0476, 6: 80.2721, 7: 79.1667, 8: 62.4339, 9: 66.1905, 10: 70.9957, 11: 64.6825}, 'ewc':{0: 76.1905, 1: 73.8095, 2: 76.1905, 3: 82.1429, 4: 84.7619, 5: 80.9524, 6: 78.2313, 7: 82.7381, 8: 72.4868, 9: 84.2857, 10: 83.5498, 11: 82.5397}, 'dgr':{0: 86.1905, 1: 78.8095, 2: 68.8095, 3: 77.1905, 4: 82.7619, 5: 77.9524, 6: 65.2313, 7: 73.7212, 8: 73.1973, 9: 61.2857, 10: 80.7482, 11: 83.6385}}"
   ]
  },
  {
   "cell_type": "markdown",
   "metadata": {},
   "source": [
    "#### dgr & modified"
   ]
  },
  {
   "cell_type": "code",
   "execution_count": 5,
   "metadata": {},
   "outputs": [],
   "source": [
    "acc_dict={'dgr': {0: 97.92, 1: 96.215, 2: 93.52333333333333, 3: 89.8775, 4: 85.39399999999999}, 'M = 300':{0: 94.38, 1: 93.38, 2: 89.82666667, 3: 84.6075, 4: 80.94}, 'M = 1000': {0: 94.81999969482422, 1: 94.16999816894531, 2: 92.21333821614583, 3: 88.62750244140625, 4: 86.18200073242187}}"
   ]
  },
  {
   "cell_type": "markdown",
   "metadata": {
    "colab_type": "text",
    "id": "dnyUm1g6i18h"
   },
   "source": [
    "### Plot"
   ]
  },
  {
   "cell_type": "code",
   "execution_count": 4,
   "metadata": {
    "colab": {},
    "colab_type": "code",
    "id": "GuThumwmir6U"
   },
   "outputs": [
    {
     "data": {
      "image/png": "[encoded data removed]",
      "text/plain": [
       "<Figure size 432x288 with 1 Axes>"
      ]
     },
     "metadata": {
      "needs_background": "light"
     },
     "output_type": "display_data"
    }
   ],
   "source": [
    "plt.xlabel(\"# of tasks\")\n",
    "plt.ylabel(\"Avg. acc\")\n",
    "plt.xticks([i for i in range(0, 12)])\n",
    "plt.title(\"fine tuning, EWC, DGR\")\n",
    "\n",
    "linestyle_cycler = cycle(['-','-.',':'])\n",
    "for coef, acc in acc_dict.items():\n",
    "    x, y = list(acc.keys()), list(acc.values())\n",
    "    plt.plot(x, y, next(linestyle_cycler), label=str(coef), marker='o')\n",
    "\n",
    "plt.legend(loc=3)\n",
    "plt.savefig('radar_plain&ewc.png', dpi=400)\n",
    "plt.show()"
   ]
  },
  {
   "cell_type": "code",
   "execution_count": null,
   "metadata": {},
   "outputs": [],
   "source": []
  }
 ],
 "metadata": {
  "accelerator": "GPU",
  "colab": {
   "collapsed_sections": [],
   "name": "RADAR_Data_plain.ipynb",
   "provenance": []
  },
  "kernelspec": {
   "display_name": "Python 3",
   "language": "python",
   "name": "python3"
  },
  "language_info": {
   "codemirror_mode": {
    "name": "ipython",
    "version": 3
   },
   "file_extension": ".py",
   "mimetype": "text/x-python",
   "name": "python",
   "nbconvert_exporter": "python",
   "pygments_lexer": "ipython3",
   "version": "3.7.7"
  }
 },
 "nbformat": 4,
 "nbformat_minor": 1
}
