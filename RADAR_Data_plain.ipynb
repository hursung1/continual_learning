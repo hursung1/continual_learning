{
  "nbformat": 4,
  "nbformat_minor": 0,
  "metadata": {
    "colab": {
      "name": "RADAR_Data_plain.ipynb",
      "provenance": [],
      "collapsed_sections": []
    },
    "kernelspec": {
      "name": "python3",
      "display_name": "Python 3"
    },
    "accelerator": "GPU"
  },
  "cells": [
    {
      "cell_type": "code",
      "metadata": {
        "id": "WVcsTxSUzrHm",
        "colab_type": "code",
        "colab": {}
      },
      "source": [
        "import numpy as np\n",
        "import matplotlib.pyplot as plt\n",
        "import datetime\n",
        "import os\n",
        "import cv2\n",
        "\n",
        "import torch\n",
        "import torch.nn as nn\n",
        "import torch.nn.functional as F\n",
        "import torch.optim as optim\n",
        "from torch.autograd import Variable\n",
        "import torchvision\n",
        "import torchvision.transforms as transforms"
      ],
      "execution_count": 0,
      "outputs": []
    },
    {
      "cell_type": "code",
      "metadata": {
        "id": "OZj8GcYqCCk8",
        "colab_type": "code",
        "outputId": "bdbc6634-b63b-40cc-d3c7-a177c853fe38",
        "colab": {
          "base_uri": "https://localhost:8080/",
          "height": 34
        }
      },
      "source": [
        "from google.colab import drive\n",
        "drive.mount('/content/drive')"
      ],
      "execution_count": 5,
      "outputs": [
        {
          "output_type": "stream",
          "text": [
            "Drive already mounted at /content/drive; to attempt to forcibly remount, call drive.mount(\"/content/drive\", force_remount=True).\n"
          ],
          "name": "stdout"
        }
      ]
    },
    {
      "cell_type": "markdown",
      "metadata": {
        "id": "zpUUFFhoUlMJ",
        "colab_type": "text"
      },
      "source": [
        "### Get data"
      ]
    },
    {
      "cell_type": "code",
      "metadata": {
        "id": "ZTSQX1mHCLnl",
        "colab_type": "code",
        "colab": {
          "base_uri": "https://localhost:8080/",
          "height": 310
        },
        "outputId": "bef60efe-469d-42f7-de9a-8d8fce63ffbd"
      },
      "source": [
        "tasks = 12\n",
        "epochs = 20\n",
        "\n",
        "category=['boxingmoving', 'boxingstill', 'crawling', 'running', 'still', 'walking', 'walkinglow']\n",
        "\n",
        "# On Colab\n",
        "data_path = 'drive/My Drive/projects/data/RADAR/Subject%d'%(task)\n",
        "\n",
        "# On PC\n",
        "#data_path = './data/RADAR/Subject%d'%(task)\n",
        "\n",
        "train_data = None\n",
        "test_data = None\n",
        "\n",
        "train_data_list = []\n",
        "test_data_list = []\n",
        "\n",
        "for task in range(1, tasks+1):\n",
        "    for cat in category:\n",
        "\n",
        "        # train data\n",
        "        for i in range(1, 10):\n",
        "            filename = 'Human_Spect_test%d_%s_0%d.png'%(task, cat, i)\n",
        "            file_path = os.path.join(data_path, 'train', cat, filename)\n",
        "            #print(file_path)\n",
        "            img = cv2.imread(file_path, cv2.IMREAD_GRAYSCALE)\n",
        "            train_data_list.append(torch.Tensor(img))\n",
        "\n",
        "        train_data_list = torch.stack(train_data_list)\n",
        "        if train_data is None:\n",
        "            train_data = train_data_list\n",
        "        else:\n",
        "            train_data = torch.stack((train_data, train_data_list))\n",
        "\n",
        "        # test data\n",
        "        for i in range(10, 13):\n",
        "            filename = 'Human_Spect_test%d_%s_%d.png'%(task, cat, i)\n",
        "            file_path = os.path.join(data_path, 'test', cat, filename)\n",
        "            img = cv2.imread(file_path, cv2.IMREAD_GRAYSCALE)\n",
        "            test_data_list.append(torch.Tensor(img))\n",
        "\n",
        "        test_data_list  = torch.stack(test_data_list)\n",
        "        if test_data is None:\n",
        "            test_data = test_data_list\n",
        "        else:\n",
        "            test_data = torch.stack((test_data, test_data_list))\n",
        "\n",
        "        train_data_list = []\n",
        "        test_data_list = []\n",
        "\n",
        "        print(train_data.shape)\n",
        "        print(test_data.shape)"
      ],
      "execution_count": 41,
      "outputs": [
        {
          "output_type": "stream",
          "text": [
            "torch.Size([9, 128, 128])\n",
            "torch.Size([3, 128, 128])\n",
            "torch.Size([2, 9, 128, 128])\n",
            "torch.Size([2, 3, 128, 128])\n"
          ],
          "name": "stdout"
        },
        {
          "output_type": "error",
          "ename": "RuntimeError",
          "evalue": "ignored",
          "traceback": [
            "\u001b[0;31m---------------------------------------------------------------------------\u001b[0m",
            "\u001b[0;31mRuntimeError\u001b[0m                              Traceback (most recent call last)",
            "\u001b[0;32m<ipython-input-41-0b3072cc61ed>\u001b[0m in \u001b[0;36m<module>\u001b[0;34m()\u001b[0m\n\u001b[1;32m     31\u001b[0m             \u001b[0mtrain_data\u001b[0m \u001b[0;34m=\u001b[0m \u001b[0mtrain_data_list\u001b[0m\u001b[0;34m\u001b[0m\u001b[0;34m\u001b[0m\u001b[0m\n\u001b[1;32m     32\u001b[0m         \u001b[0;32melse\u001b[0m\u001b[0;34m:\u001b[0m\u001b[0;34m\u001b[0m\u001b[0;34m\u001b[0m\u001b[0m\n\u001b[0;32m---> 33\u001b[0;31m             \u001b[0mtrain_data\u001b[0m \u001b[0;34m=\u001b[0m \u001b[0mtorch\u001b[0m\u001b[0;34m.\u001b[0m\u001b[0mstack\u001b[0m\u001b[0;34m(\u001b[0m\u001b[0;34m(\u001b[0m\u001b[0mtrain_data\u001b[0m\u001b[0;34m,\u001b[0m \u001b[0mtrain_data_list\u001b[0m\u001b[0;34m)\u001b[0m\u001b[0;34m)\u001b[0m\u001b[0;34m\u001b[0m\u001b[0;34m\u001b[0m\u001b[0m\n\u001b[0m\u001b[1;32m     34\u001b[0m \u001b[0;34m\u001b[0m\u001b[0m\n\u001b[1;32m     35\u001b[0m         \u001b[0;31m# test data\u001b[0m\u001b[0;34m\u001b[0m\u001b[0;34m\u001b[0m\u001b[0;34m\u001b[0m\u001b[0m\n",
            "\u001b[0;31mRuntimeError\u001b[0m: invalid argument 0: Tensors must have same number of dimensions: got 5 and 4 at /pytorch/aten/src/TH/generic/THTensor.cpp:680"
          ]
        }
      ]
    },
    {
      "cell_type": "code",
      "metadata": {
        "id": "ExSwX8psD3eH",
        "colab_type": "code",
        "colab": {}
      },
      "source": [
        "class NeuralNet(nn.Module):\n",
        "    def __init__(self):\n",
        "        super(NeuralNet, self).__init__()\n",
        "        self.module = nn.Sequential(\n",
        "            nn.Conv2d(1, 6, 5),\n",
        "            nn.ReLU(),\n",
        "            nn.MaxPool2d(),\n",
        "            nn.Conv2d(),\n",
        "            nn.ReLU(),\n",
        "            nn.MaxPool2d(),\n",
        "            fc1,\n",
        "            nn.ReLU(),\n",
        "            fc2,\n",
        "            nn.ReLU(),\n",
        "            fc3\n",
        "        )\n",
        "\n",
        "        if torch.cuda.is_available():\n",
        "            self.module = self.module.cuda()\n",
        "\n",
        "    def forward(self, input):\n",
        "        return self.module(input)"
      ],
      "execution_count": 0,
      "outputs": []
    },
    {
      "cell_type": "markdown",
      "metadata": {
        "id": "1igJtxnxi0QE",
        "colab_type": "text"
      },
      "source": [
        "### Training"
      ]
    },
    {
      "cell_type": "code",
      "metadata": {
        "id": "nvhvOVdcirjz",
        "colab_type": "code",
        "colab": {}
      },
      "source": [
        ""
      ],
      "execution_count": 0,
      "outputs": []
    },
    {
      "cell_type": "markdown",
      "metadata": {
        "id": "dnyUm1g6i18h",
        "colab_type": "text"
      },
      "source": [
        "### Test"
      ]
    },
    {
      "cell_type": "code",
      "metadata": {
        "id": "GuThumwmir6U",
        "colab_type": "code",
        "colab": {}
      },
      "source": [
        ""
      ],
      "execution_count": 0,
      "outputs": []
    }
  ]
}