{
 "cells": [
  {
   "cell_type": "code",
   "execution_count": 1,
   "metadata": {
    "colab": {},
    "colab_type": "code",
    "id": "WVcsTxSUzrHm"
   },
   "outputs": [],
   "source": [
    "import datetime\n",
    "import os\n",
    "import numpy as np\n",
    "import matplotlib.pyplot as plt\n",
    "from PIL import Image\n",
    "import torch\n",
    "import torchvision\n",
    "import torchvision.transforms as transforms"
   ]
  },
  {
   "cell_type": "code",
   "execution_count": 12,
   "metadata": {
    "colab": {
     "base_uri": "https://localhost:8080/",
     "height": 34
    },
    "colab_type": "code",
    "id": "OZj8GcYqCCk8",
    "outputId": "bdbc6634-b63b-40cc-d3c7-a177c853fe38"
   },
   "outputs": [],
   "source": [
    "tasks = 12\n",
    "epochs = 100\n",
    "learning_rate = 1e-3\n",
    "batch_size = 64\n",
    "on_colab = False\n",
    "divide_tasks = False\n",
    "\n",
    "category={0: 'boxingmoving', \n",
    "          1: 'boxingstill', \n",
    "          2: 'crawling', \n",
    "          3: 'running', \n",
    "          4: 'still', \n",
    "          5: 'walking', \n",
    "          6: 'walkinglow'}\n",
    "\n",
    "cuda_available = False\n",
    "if torch.cuda.is_available():\n",
    "    cuda_available = True\n",
    "\n",
    "dt = datetime.datetime.now()"
   ]
  },
  {
   "cell_type": "markdown",
   "metadata": {
    "colab_type": "text",
    "id": "zpUUFFhoUlMJ"
   },
   "source": [
    "### Get data"
   ]
  },
  {
   "cell_type": "code",
   "execution_count": 10,
   "metadata": {
    "colab": {
     "base_uri": "https://localhost:8080/",
     "height": 310
    },
    "colab_type": "code",
    "id": "ZTSQX1mHCLnl",
    "outputId": "bef60efe-469d-42f7-de9a-8d8fce63ffbd"
   },
   "outputs": [
    {
     "name": "stdout",
     "output_type": "stream",
     "text": [
      "torch.Size([12, 7, 9, 128, 128])\n",
      "torch.Size([12, 7, 3, 128, 128])\n",
      "torch.Size([7, 9])\n",
      "torch.Size([7, 3])\n"
     ]
    }
   ],
   "source": [
    "### Data: (# of subject, # of classes, # of data, width, height)\n",
    "if divide_tasks:\n",
    "    train_data = []\n",
    "    test_data = []\n",
    "\n",
    "    for task in range(1, tasks+1):\n",
    "        if on_colab:\n",
    "            data_path = 'drive/My Drive/projects/data/RADAR/Subject%d'%(task)\n",
    "        else:\n",
    "            data_path = './data/RADAR/Subject%d'%(task)\n",
    "\n",
    "        train_data_per_task = []\n",
    "        test_data_per_task = []\n",
    "        for _, cat in category.items():\n",
    "            # train data\n",
    "            train_data_per_cat = []\n",
    "            test_data_per_cat = []\n",
    "\n",
    "            for i in range(1, 10):\n",
    "                filename = 'Human_Spect_test%d_%s_0%d.png'%(task, cat, i)\n",
    "                file_path = os.path.join(data_path, 'train', cat, filename)\n",
    "                img = Image.open(file_path)\n",
    "                img.load()\n",
    "                img = np.array(img)\n",
    "                train_data_per_cat.append(img)\n",
    "\n",
    "            # test data\n",
    "            for i in range(10, 13):\n",
    "                filename = 'Human_Spect_test%d_%s_%d.png'%(task, cat, i)\n",
    "                file_path = os.path.join(data_path, 'test', cat, filename)\n",
    "                img = Image.open(file_path)\n",
    "                img.load()\n",
    "                img = np.array(img)\n",
    "                test_data_per_cat.append(img)\n",
    "\n",
    "            \n",
    "            train_data_per_task.append(train_data_per_cat)\n",
    "            test_data_per_task.append(test_data_per_cat)\n",
    "            \n",
    "        train_data.append(train_data_per_task)\n",
    "        test_data.append(test_data_per_task)\n",
    "        \n",
    "\n",
    "    train_data = torch.Tensor(train_data)\n",
    "    test_data = torch.Tensor(test_data)\n",
    "\n",
    "    if cuda_available:\n",
    "        train_data = train_data.cuda()\n",
    "        test_data = test_data.cuda()\n",
    "\n",
    "    print(train_data.shape)\n",
    "    print(test_data.shape)\n",
    "\n",
    "    train_labels = np.zeros((9, ))\n",
    "    test_labels = np.zeros((3, ))\n",
    "\n",
    "    for i in range(1, 7):\n",
    "        train_labels = np.vstack((train_labels, np.zeros((9, )) + i))\n",
    "        test_labels = np.vstack((test_labels, np.zeros((3, )) + i))\n",
    "\n",
    "    train_labels = torch.Tensor(train_labels).type(torch.LongTensor)\n",
    "    test_labels = torch.Tensor(test_labels).type(torch.LongTensor)\n",
    "\n",
    "    if cuda_available:\n",
    "        train_labels = train_labels.cuda()\n",
    "        test_labels = test_labels.cuda()\n",
    "\n",
    "    print(train_labels.shape)\n",
    "    print(test_labels.shape)"
   ]
  },
  {
   "cell_type": "code",
   "execution_count": 13,
   "metadata": {
    "colab": {},
    "colab_type": "code",
    "id": "ExSwX8psD3eH"
   },
   "outputs": [
    {
     "name": "stdout",
     "output_type": "stream",
     "text": [
      "torch.Size([7, 108, 128, 128])\n",
      "torch.Size([7, 36, 128, 128])\n",
      "torch.Size([7, 108])\n",
      "torch.Size([7, 36])\n"
     ]
    }
   ],
   "source": [
    "if not divide_tasks:\n",
    "    train_data = torch.empty((7, 108, 128, 128))\n",
    "    test_data = torch.empty((7, 36, 128, 128))\n",
    "\n",
    "    for task in range(1, tasks+1):\n",
    "        if on_colab:\n",
    "            data_path = 'drive/My Drive/projects/data/RADAR/Subject%d'%(task)\n",
    "        else:\n",
    "            data_path = './data/RADAR/Subject%d'%(task)\n",
    "\n",
    "        for cat_i, cat in category.items():\n",
    "            # train data\n",
    "            for i in range(1, 10):\n",
    "                filename = 'Human_Spect_test%d_%s_0%d.png'%(task, cat, i)\n",
    "                file_path = os.path.join(data_path, 'train', cat, filename)\n",
    "                img = Image.open(file_path)\n",
    "                img.load()\n",
    "                img = np.array(img)\n",
    "                train_data[cat_i, (task - 1) * 9 + (i - 1)] = torch.Tensor(img)\n",
    "\n",
    "            # test data\n",
    "            for i in range(10, 13):\n",
    "                filename = 'Human_Spect_test%d_%s_%d.png'%(task, cat, i)\n",
    "                file_path = os.path.join(data_path, 'test', cat, filename)\n",
    "                img = Image.open(file_path)\n",
    "                img.load()\n",
    "                img = np.array(img)\n",
    "                test_data[cat_i, (task - 1) * 3 + (i - 10)] = torch.tensor(img)\n",
    "\n",
    "    if cuda_available:\n",
    "        train_data = train_data.cuda()\n",
    "        test_data = test_data.cuda()\n",
    "\n",
    "    print(train_data.shape)\n",
    "    print(test_data.shape)\n",
    "    \n",
    "    train_labels = np.zeros((9*12, ))\n",
    "    test_labels = np.zeros((3*12, ))\n",
    "\n",
    "    for i in range(1, 7):\n",
    "        train_labels = np.vstack((train_labels, np.zeros((9*12, )) + i))\n",
    "        test_labels = np.vstack((test_labels, np.zeros((3*12, )) + i))\n",
    "\n",
    "    train_labels = torch.Tensor(train_labels).type(torch.LongTensor)\n",
    "    test_labels = torch.Tensor(test_labels).type(torch.LongTensor)\n",
    "\n",
    "    if cuda_available:\n",
    "        train_labels = train_labels.cuda()\n",
    "        test_labels = test_labels.cuda()\n",
    "\n",
    "    print(train_labels.shape)\n",
    "    print(test_labels.shape)"
   ]
  },
  {
   "cell_type": "code",
   "execution_count": 4,
   "metadata": {},
   "outputs": [],
   "source": [
    "class NeuralNet(torch.nn.Module):\n",
    "    def __init__(self):\n",
    "        super(NeuralNet, self).__init__()\n",
    "        self.conv_module = torch.nn.Sequential(\n",
    "            torch.nn.Conv2d(1, 6, 5, 1), # 6 @ 124*124\n",
    "            torch.nn.ReLU(),\n",
    "            torch.nn.MaxPool2d(2), # 6 @ 62*62\n",
    "            torch.nn.Conv2d(6, 16, 7, 1), # 16 @ 56*56\n",
    "            torch.nn.ReLU(),\n",
    "            torch.nn.MaxPool2d(2), # 16 @ 28*28\n",
    "            # Conv 추가\n",
    "            torch.nn.Conv2d(16, 16, 5, 1), # 16 @ 24*24\n",
    "            torch.nn.ReLU(),\n",
    "            torch.nn.MaxPool2d(2) # 16 @ 12*12\n",
    "        )\n",
    "\n",
    "        self.fc_module = torch.nn.Sequential(\n",
    "            torch.nn.Linear(16*12*12, 128),\n",
    "            torch.nn.ReLU(),\n",
    "            #Linear 빼고\n",
    "            #dropout 추가\n",
    "            torch.nn.Dropout(p=0.3),\n",
    "            torch.nn.Linear(128, 7)\n",
    "        )\n",
    "\n",
    "        if torch.cuda.is_available():\n",
    "            self.conv_module = self.conv_module.cuda()\n",
    "            self.fc_module = self.fc_module.cuda()\n",
    "\n",
    "    def forward(self, input):\n",
    "        x = self.conv_module(input)\n",
    "        dim = x.shape[1] * x.shape[2] * x.shape[3]\n",
    "        x = x.view(-1, dim)\n",
    "        return self.fc_module(x)"
   ]
  },
  {
   "cell_type": "markdown",
   "metadata": {
    "colab_type": "text",
    "id": "1igJtxnxi0QE"
   },
   "source": [
    "### Training & Validation"
   ]
  },
  {
   "cell_type": "code",
   "execution_count": 11,
   "metadata": {},
   "outputs": [
    {
     "name": "stdout",
     "output_type": "stream",
     "text": [
      "torch.Size([12, 7, 9, 128, 128])\n",
      "torch.Size([12, 7, 3, 128, 128])\n"
     ]
    }
   ],
   "source": [
    "print(train_data.shape)\n",
    "print(test_data.shape)"
   ]
  },
  {
   "cell_type": "code",
   "execution_count": 14,
   "metadata": {
    "colab": {},
    "colab_type": "code",
    "id": "nvhvOVdcirjz"
   },
   "outputs": [
    {
     "name": "stdout",
     "output_type": "stream",
     "text": [
      "Epoch: 5, AVG. loss: 203.865\n",
      "\n",
      "Epoch: 10, AVG. loss: 35.756\n",
      "\n",
      "Epoch: 15, AVG. loss: 18.652\n",
      "\n",
      "Epoch: 20, AVG. loss: 16.232\n",
      "\n",
      "Epoch: 25, AVG. loss: 7.644\n",
      "\n",
      "Epoch: 30, AVG. loss: 4.977\n",
      "\n",
      "Epoch: 35, AVG. loss: 4.378\n",
      "\n",
      "Epoch: 40, AVG. loss: 2.465\n",
      "\n",
      "Epoch: 45, AVG. loss: 1.512\n",
      "\n",
      "Epoch: 50, AVG. loss: 7.597\n",
      "\n",
      "Epoch: 55, AVG. loss: 7.219\n",
      "\n",
      "Epoch: 60, AVG. loss: 2.325\n",
      "\n",
      "Epoch: 65, AVG. loss: 1.267\n",
      "\n",
      "Epoch: 70, AVG. loss: 0.631\n",
      "\n",
      "Epoch: 75, AVG. loss: 0.780\n",
      "\n",
      "Epoch: 80, AVG. loss: 0.536\n",
      "\n",
      "Epoch: 85, AVG. loss: 0.276\n",
      "\n",
      "Epoch: 90, AVG. loss: 0.290\n",
      "\n",
      "Epoch: 95, AVG. loss: 0.147\n",
      "\n",
      "Epoch: 100, AVG. loss: 0.162\n",
      "\n",
      "Average accuracy 94 %\n",
      "\n"
     ]
    }
   ],
   "source": [
    "net = NeuralNet()\n",
    "if cuda_available:\n",
    "    net = net.cuda()\n",
    "\n",
    "optimizer = torch.optim.Adam(net.parameters(), lr=learning_rate)\n",
    "criterion = torch.nn.CrossEntropyLoss()\n",
    "\n",
    "logfile_name = \"logfile_training_%d_%d_%d_%d_%d.txt\" % (dt.year, dt.month, dt.day, dt.hour, dt.minute)\n",
    "log_file = open(logfile_name, \"w\")\n",
    "\n",
    "running_loss = 0\n",
    "avg_acc = {}\n",
    "\n",
    "net.train()\n",
    "for epoch in range(epochs):\n",
    "    for key, _ in category.items():\n",
    "        _train_data = train_data[key].view(9*12, 1, 128, 128)\n",
    "        _train_label = train_labels[key]\n",
    "        #print(_train_data.shape)\n",
    "        optimizer.zero_grad()\n",
    "        outputs = net(_train_data)\n",
    "        loss = criterion(outputs, _train_label)\n",
    "\n",
    "        loss.backward()\n",
    "        optimizer.step()\n",
    "\n",
    "        running_loss += loss.data.item()\n",
    "\n",
    "    if epoch % 5 == 4:\n",
    "        msg = 'Epoch: %d, AVG. loss: %.3f\\n'% (epoch + 1, running_loss)\n",
    "        print(msg)\n",
    "        log_file.write(msg)\n",
    "        running_loss = 0\n",
    "\n",
    "total = 0\n",
    "correct = 0\n",
    "net.eval()\n",
    "for key, _ in category.items():\n",
    "    _test_data = test_data[key].view(3*12, 1, 128, 128)\n",
    "    output = net(_test_data)\n",
    "    _, predicted = torch.max(output.data, dim=1)\n",
    "    total += test_labels[key].shape[0]\n",
    "    correct += (predicted == test_labels[key]).sum()\n",
    "        \n",
    "acc = correct.cpu().numpy()*100/total\n",
    "msg = 'Average accuracy %d %%\\n' % (acc)\n",
    "print(msg)\n",
    "log_file.write(msg)\n",
    "log_file.close()"
   ]
  },
  {
   "cell_type": "markdown",
   "metadata": {
    "colab_type": "text",
    "id": "dnyUm1g6i18h"
   },
   "source": [
    "### Plot"
   ]
  },
  {
   "cell_type": "code",
   "execution_count": 10,
   "metadata": {
    "colab": {},
    "colab_type": "code",
    "id": "GuThumwmir6U"
   },
   "outputs": [
    {
     "data": {
      "image/png": "[encoded data removed]",
      "text/plain": [
       "<Figure size 432x288 with 1 Axes>"
      ]
     },
     "metadata": {
      "needs_background": "light"
     },
     "output_type": "display_data"
    }
   ],
   "source": [
    "plt.xlabel(\"# of tasks\")\n",
    "plt.ylabel(\"Avg. acc\")\n",
    "plt.title(\"Average Accuracies\")\n",
    "\n",
    "x, y = list(avg_acc.keys()), list(avg_acc.values())\n",
    "plt.plot(x, y)\n",
    "\n",
    "plt.show()"
   ]
  },
  {
   "cell_type": "code",
   "execution_count": null,
   "metadata": {},
   "outputs": [],
   "source": []
  }
 ],
 "metadata": {
  "accelerator": "GPU",
  "colab": {
   "collapsed_sections": [],
   "name": "RADAR_Data_plain.ipynb",
   "provenance": []
  },
  "kernelspec": {
   "display_name": "Python 3",
   "language": "python",
   "name": "python3"
  },
  "language_info": {
   "codemirror_mode": {
    "name": "ipython",
    "version": 3
   },
   "file_extension": ".py",
   "mimetype": "text/x-python",
   "name": "python",
   "nbconvert_exporter": "python",
   "pygments_lexer": "ipython3",
   "version": "3.6.10"
  }
 },
 "nbformat": 4,
 "nbformat_minor": 1
}
